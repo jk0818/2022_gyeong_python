{
 "cells": [
  {
   "cell_type": "code",
   "execution_count": 72,
   "id": "5058a1cb",
   "metadata": {},
   "outputs": [
    {
     "data": {
      "text/plain": [
       "<_io.TextIOWrapper name='04_seoul_기온.csv' mode='rt' encoding='cp949'>"
      ]
     },
     "execution_count": 72,
     "metadata": {},
     "output_type": "execute_result"
    }
   ],
   "source": [
    "f = open('04_seoul_기온.csv', 'rt')\n",
    "lines = f.readlines()\n",
    "f.close()\n",
    "f"
   ]
  },
  {
   "cell_type": "code",
   "execution_count": 73,
   "id": "326a77c6",
   "metadata": {},
   "outputs": [],
   "source": [
    "lines = lines[1:]"
   ]
  },
  {
   "cell_type": "code",
   "execution_count": 78,
   "id": "d24cf4e0",
   "metadata": {
    "scrolled": false
   },
   "outputs": [],
   "source": [
    "date_data = []\n",
    "min_data = []\n",
    "for line in lines:\n",
    "    date_data.append( line.split(',')[0] )\n",
    "    min_data.append( float(line.split(',')[2]) )"
   ]
  },
  {
   "cell_type": "code",
   "execution_count": 79,
   "id": "69529df7",
   "metadata": {},
   "outputs": [
    {
     "data": {
      "text/plain": [
       "[-8.4,\n",
       " -9.1,\n",
       " -8.4,\n",
       " -9.9,\n",
       " -12.0,\n",
       " -16.5,\n",
       " -18.6,\n",
       " -16.6,\n",
       " -12.8,\n",
       " -9.6,\n",
       " -9.3,\n",
       " -3.0,\n",
       " -3.6,\n",
       " -0.7,\n",
       " -8.7,\n",
       " -10.8,\n",
       " -9.1,\n",
       " -11.6]"
      ]
     },
     "execution_count": 79,
     "metadata": {},
     "output_type": "execute_result"
    }
   ],
   "source": [
    "min_data"
   ]
  },
  {
   "cell_type": "code",
   "execution_count": 80,
   "id": "ebbd1c48",
   "metadata": {},
   "outputs": [],
   "source": [
    "import matplotlib.pyplot as plt"
   ]
  },
  {
   "cell_type": "code",
   "execution_count": 81,
   "id": "7e90efef",
   "metadata": {},
   "outputs": [
    {
     "data": {
      "text/plain": [
       "float"
      ]
     },
     "execution_count": 81,
     "metadata": {},
     "output_type": "execute_result"
    }
   ],
   "source": [
    "type(min_data[0])"
   ]
  },
  {
   "cell_type": "code",
   "execution_count": 83,
   "id": "8c32716c",
   "metadata": {},
   "outputs": [],
   "source": [
    "min_data = list (map(float, min_data))"
   ]
  },
  {
   "cell_type": "code",
   "execution_count": 84,
   "id": "2f191d0c",
   "metadata": {},
   "outputs": [
    {
     "data": {
      "image/png": "[encoded data removed]",
      "text/plain": [
       "<Figure size 432x288 with 1 Axes>"
      ]
     },
     "metadata": {
      "needs_background": "light"
     },
     "output_type": "display_data"
    }
   ],
   "source": [
    "# Line 그래프 사용 (plot)\n",
    "plt.plot( date_data, min_data)\n",
    "plt.xticks(date_data, rotation = 45 )\n",
    "plt.show()"
   ]
  },
  {
   "cell_type": "code",
   "execution_count": null,
   "id": "9abfeec1",
   "metadata": {},
   "outputs": [],
   "source": [
    "#------------------"
   ]
  },
  {
   "cell_type": "code",
   "execution_count": 34,
   "id": "4679397a",
   "metadata": {},
   "outputs": [
    {
     "name": "stdout",
     "output_type": "stream",
     "text": [
      "10000\n",
      "20000\n",
      "30000\n",
      "40000\n",
      "50000\n",
      "60000\n",
      "70000\n",
      "78087\n"
     ]
    }
   ],
   "source": [
    "# 로또 문제\n",
    "\n",
    "import random\n",
    "\n",
    "lotto = [11, 12, 33, 45]   # 1 등 번호\n",
    "num = []\n",
    "count = 0\n",
    "while True:\n",
    "  num.clear()              # 1 등 번호 다시 생성\n",
    "  count += 1   \n",
    "  \n",
    "  if count % 10000 == 0: print(count)\n",
    "  \n",
    "  while True:\n",
    "    ran = random.randint(1, 45)\n",
    "    if ran not in num:  # 같지 않으면 \n",
    "      num.append(ran)    # 추가한다\n",
    "      if len(num) >= len(lotto): break\n",
    "  num.sort()\n",
    "  if lotto == num: break\n",
    "print(count)"
   ]
  },
  {
   "cell_type": "code",
   "execution_count": 61,
   "id": "52e0a120",
   "metadata": {},
   "outputs": [],
   "source": [
    "f = open('04_numbers_data.txt', 'rt')\n",
    "text = f.read()\n",
    "f.close()"
   ]
  },
  {
   "cell_type": "code",
   "execution_count": 62,
   "id": "3bec770e",
   "metadata": {},
   "outputs": [
    {
     "data": {
      "text/plain": [
       "['7', '9', '24', '29', '34', '38']"
      ]
     },
     "execution_count": 62,
     "metadata": {},
     "output_type": "execute_result"
    }
   ],
   "source": [
    "li = text.split('\\n')\n",
    "li"
   ]
  },
  {
   "cell_type": "code",
   "execution_count": 64,
   "id": "5cf5aa75",
   "metadata": {
    "scrolled": false
   },
   "outputs": [
    {
     "ename": "TypeError",
     "evalue": "int() argument must be a string, a bytes-like object or a number, not 'list'",
     "output_type": "error",
     "traceback": [
      "\u001b[1;31m---------------------------------------------------------------------------\u001b[0m",
      "\u001b[1;31mTypeError\u001b[0m                                 Traceback (most recent call last)",
      "\u001b[1;32m~\\AppData\\Local\\Temp/ipykernel_8604/2442745223.py\u001b[0m in \u001b[0;36m<module>\u001b[1;34m\u001b[0m\n\u001b[0;32m      1\u001b[0m \u001b[0mtotal\u001b[0m \u001b[1;33m=\u001b[0m \u001b[1;36m0\u001b[0m\u001b[1;33m\u001b[0m\u001b[1;33m\u001b[0m\u001b[0m\n\u001b[0;32m      2\u001b[0m \u001b[1;32mfor\u001b[0m \u001b[0mi\u001b[0m \u001b[1;32min\u001b[0m \u001b[0mli\u001b[0m\u001b[1;33m:\u001b[0m\u001b[1;33m\u001b[0m\u001b[1;33m\u001b[0m\u001b[0m\n\u001b[1;32m----> 3\u001b[1;33m     \u001b[0mtotal\u001b[0m \u001b[1;33m+=\u001b[0m \u001b[0mint\u001b[0m\u001b[1;33m(\u001b[0m\u001b[0mli\u001b[0m\u001b[1;33m)\u001b[0m\u001b[1;33m\u001b[0m\u001b[1;33m\u001b[0m\u001b[0m\n\u001b[0m\u001b[0;32m      4\u001b[0m \u001b[0mtotal\u001b[0m\u001b[1;33m\u001b[0m\u001b[1;33m\u001b[0m\u001b[0m\n",
      "\u001b[1;31mTypeError\u001b[0m: int() argument must be a string, a bytes-like object or a number, not 'list'"
     ]
    }
   ],
   "source": [
    "total = 0\n",
    "for i in li:\n",
    "    total += int(li)\n",
    "total"
   ]
  },
  {
   "cell_type": "code",
   "execution_count": 65,
   "id": "be627e94",
   "metadata": {
    "scrolled": true
   },
   "outputs": [
    {
     "data": {
      "text/plain": [
       "<_io.TextIOWrapper name='04_text_data.txt' mode='rt' encoding='cp949'>"
      ]
     },
     "execution_count": 65,
     "metadata": {},
     "output_type": "execute_result"
    }
   ],
   "source": [
    "f = open('04_text_data.txt','rt')\n",
    "text = f.readlines()\n",
    "f.close()           #파일을 열었으면 반드시 닫아야함!\n",
    "f"
   ]
  },
  {
   "cell_type": "code",
   "execution_count": 67,
   "id": "62ef4e8c",
   "metadata": {},
   "outputs": [
    {
     "name": "stdout",
     "output_type": "stream",
     "text": [
      "python\n",
      "kotlin\n",
      "fortran\n"
     ]
    }
   ],
   "source": [
    "for t in text:\n",
    "    if 't' in t :\n",
    "        print(t.replace('\\n',''))"
   ]
  },
  {
   "cell_type": "code",
   "execution_count": null,
   "id": "fb43de19",
   "metadata": {},
   "outputs": [],
   "source": [
    "#파일 생성 명령어\n",
    "# sfutil\n",
    "\n",
    "#자동 닫기\n",
    "# with open( 파일 위치 및 명 ) as 파일명함수"
   ]
  },
  {
   "cell_type": "code",
   "execution_count": null,
   "id": "619ca326",
   "metadata": {},
   "outputs": [],
   "source": []
  },
  {
   "cell_type": "code",
   "execution_count": null,
   "id": "41d29ea6",
   "metadata": {},
   "outputs": [],
   "source": [
    "#내장함수 ; 파이썬 내부에 미리 정의되어 있는 함수\n",
    "\n",
    "#all 과 any 딱 반대\n",
    "# aii은 하나라도 false 이면 false\n",
    "# any는 하나라도 true 이면 true"
   ]
  },
  {
   "cell_type": "code",
   "execution_count": 8,
   "id": "2e67132c",
   "metadata": {},
   "outputs": [
    {
     "name": "stdout",
     "output_type": "stream",
     "text": [
      "dx: 4 dy: 2   거리: 4.47213595499958\n"
     ]
    }
   ],
   "source": [
    "#abs 연습문제\n",
    "\n",
    "def distance(start, end):\n",
    "    return (abs(start[0] - end[0]), abs(start[1]-end [1]))\n",
    "    \n",
    "start = (1, 1)\n",
    "end = (5, 3)\n",
    "dx, dy = distance(start, end)\n",
    "dis = (dx**2 + dy**2)**0.5\n",
    "print('dx:', dx, 'dy:', dy,  '  거리:' , dis)"
   ]
  },
  {
   "cell_type": "code",
   "execution_count": null,
   "id": "7be53f84",
   "metadata": {},
   "outputs": [],
   "source": [
    "#암호화\n",
    "#해시코드(Hash)  : 임의의 길이 문자열을 고정 길이 문자열로 변경된 값\n",
    "\n",
    "#chr() 십진수 --> 문자\n",
    "#ord()  문자 --> 십진수\n",
    "#코드에 해당하는 값 반환"
   ]
  },
  {
   "cell_type": "code",
   "execution_count": 13,
   "id": "6981c567",
   "metadata": {},
   "outputs": [
    {
     "name": "stdout",
     "output_type": "stream",
     "text": [
      "ㄴ\n",
      "12596\n"
     ]
    }
   ],
   "source": [
    "print(chr(12596))\n",
    "print(ord('ㄴ'))"
   ]
  },
  {
   "cell_type": "code",
   "execution_count": null,
   "id": "02b407c0",
   "metadata": {},
   "outputs": [],
   "source": [
    "#dir() ; 객체가 가지고 있는 변수와 함수를 돌려주는 함수\n",
    " #들여다 본다 정도로 생각하자!\n",
    "\n",
    "# divmod()  : 몫과 나머지를 튜플로 반환\n",
    "# enumerate () : 반복가능한 자료를 입력받아 인덱스와 요소로 반환\n",
    "# eval () : 실행가능한 문자열을 입력받은 후 실행한 결과값을 돌려주는 함수\n",
    "# filter() : 참거짓을 반환하는 함수와 반복가능한 자료를 입력받은 후 참인 값만 반환\n",
    "            # 조건문은 불자료형(논리) 으로 나와야함"
   ]
  },
  {
   "cell_type": "code",
   "execution_count": 15,
   "id": "f5ac731b",
   "metadata": {},
   "outputs": [
    {
     "data": {
      "text/plain": [
       "(7, 11)"
      ]
     },
     "execution_count": 15,
     "metadata": {},
     "output_type": "execute_result"
    }
   ],
   "source": [
    "#연습문제_divmod\n",
    "\n",
    "a = 123\n",
    "b = 16\n",
    "\n",
    "divmod(a,b)"
   ]
  },
  {
   "cell_type": "code",
   "execution_count": 18,
   "id": "637d4da8",
   "metadata": {},
   "outputs": [
    {
     "name": "stdout",
     "output_type": "stream",
     "text": [
      "{1: 'a', 2: 'b', 3: 'c', 4: 'd', 5: 'e', 6: 'f', 7: 'g'}\n"
     ]
    }
   ],
   "source": [
    "#리스트를 딕셔너리로 변경_enumerate\n",
    "\n",
    "char_list = ['a', 'b', 'c', 'd', 'e', 'f', 'g']\n",
    "char_dict = {}\n",
    "\n",
    "for i, e in enumerate(char_list):\n",
    "    char_dict[i+1]=e\n",
    "    \n",
    "print(char_dict)"
   ]
  },
  {
   "cell_type": "code",
   "execution_count": 20,
   "id": "eed8f176",
   "metadata": {},
   "outputs": [
    {
     "data": {
      "text/plain": [
       "[1, 2, 3, 4, 5, 6, 7, 8, 9, 10]"
      ]
     },
     "execution_count": 20,
     "metadata": {},
     "output_type": "execute_result"
    }
   ],
   "source": [
    "#특수한 기능을 수행해주는 함수\n",
    " #filter\n",
    " #map  ( -> apply )\n",
    "\n",
    "\n",
    "\n",
    "#연습문제_filter()\n",
    "\n",
    "\n",
    "list(filter(lambda x: True , list(range(1,11))))\n",
    "              # 복잡한 조건일 경우 함수를 따로 정의해서 사용 --> def 함수명\n"
   ]
  },
  {
   "cell_type": "code",
   "execution_count": 21,
   "id": "b990d5f4",
   "metadata": {},
   "outputs": [
    {
     "data": {
      "text/plain": [
       "[2, 4, 6, 8, 10]"
      ]
     },
     "execution_count": 21,
     "metadata": {},
     "output_type": "execute_result"
    }
   ],
   "source": [
    "#연습문제_filter()\n",
    "\n",
    "\n",
    "list(filter(lambda x: x%2 == 0 , list(range(1,11))))\n"
   ]
  },
  {
   "cell_type": "code",
   "execution_count": 22,
   "id": "68613cdb",
   "metadata": {},
   "outputs": [
    {
     "data": {
      "text/plain": [
       "[1, 3, 8]"
      ]
     },
     "execution_count": 22,
     "metadata": {},
     "output_type": "execute_result"
    }
   ],
   "source": [
    "#연습문제_filter() \n",
    "#음수를 제거한 리스트 만들기\n",
    "\n",
    "num_list = [1, -2, 3, -5, 8, -3]\n",
    "\n",
    "list(filter(lambda x: x > 0 , num_list))\n"
   ]
  },
  {
   "cell_type": "code",
   "execution_count": 23,
   "id": "fc9b6f46",
   "metadata": {},
   "outputs": [
    {
     "data": {
      "text/plain": [
       "[1, 2, 4, 5, 7, 8, 10, 11, 13, 14, 16, 17, 19, 20]"
      ]
     },
     "execution_count": 23,
     "metadata": {},
     "output_type": "execute_result"
    }
   ],
   "source": [
    "##연습문제_filter() \n",
    "#3의 배수를 제거한 리스트 만들기\n",
    "\n",
    "num_list = range(1, 21)\n",
    "\n",
    "list(filter(lambda x: x%3 != 0 , num_list))\n"
   ]
  },
  {
   "cell_type": "code",
   "execution_count": 29,
   "id": "93c257b7",
   "metadata": {},
   "outputs": [
    {
     "data": {
      "text/plain": [
       "(2916439056448, 2916439041728, 2916439041728)"
      ]
     },
     "execution_count": 29,
     "metadata": {},
     "output_type": "execute_result"
    }
   ],
   "source": [
    "a = [1, 2, 3]\n",
    "b = [1, 2, 3]\n",
    "c = b\n",
    "id(a), id(b), id(c)         #값이 계속 바뀜 --> 고유한 값은 아님"
   ]
  },
  {
   "cell_type": "code",
   "execution_count": 30,
   "id": "0c8dcf75",
   "metadata": {},
   "outputs": [
    {
     "data": {
      "text/plain": [
       "(2916439849920, 2916439052992)"
      ]
     },
     "execution_count": 30,
     "metadata": {},
     "output_type": "execute_result"
    }
   ],
   "source": [
    "#초기 형태만 같고 고유한 값을 할당하고 싶을때 --> 요소 복사\n",
    "\n",
    "b = [1, 2, 3]\n",
    "c = b[:]  #shallow copy(얕은 복사) , deepcopy (깊은 복사)\n",
    "id(b), id(c)  "
   ]
  },
  {
   "cell_type": "code",
   "execution_count": 31,
   "id": "71912490",
   "metadata": {},
   "outputs": [
    {
     "name": "stdout",
     "output_type": "stream",
     "text": [
      "0x0 0x0 0xa0\n"
     ]
    }
   ],
   "source": [
    "red = 0\n",
    "green = 0\n",
    "blue = 160\n",
    "r = hex(red)\n",
    "g = hex(green)\n",
    "b = hex(blue)\n",
    "\n",
    "print(r,g,b)"
   ]
  },
  {
   "cell_type": "code",
   "execution_count": 32,
   "id": "60d60b9a",
   "metadata": {},
   "outputs": [
    {
     "data": {
      "text/plain": [
       "255"
      ]
     },
     "execution_count": 32,
     "metadata": {},
     "output_type": "execute_result"
    }
   ],
   "source": [
    "int('ff', 16) #16진수인 ff를 십진수로 반환"
   ]
  },
  {
   "cell_type": "code",
   "execution_count": 60,
   "id": "344cc98d",
   "metadata": {},
   "outputs": [],
   "source": [
    "#연습문제_ int(), chr()\n",
    "# 주어진 16진수 문자를 이용하여 실행결과와 같이 출력될 수 있도록\n",
    "# show_hex_to_ch() 함수 작성 (split(), chr(), int() 등 이용)\n",
    "\n",
    "\n",
    "hexa_string1 = '48 45 4C 4C 4F'\n",
    "hexa_string2 = '47 47 4F 52 45 42'\n",
    "\n",
    "h1 = hexa_string1.split(' ')\n",
    "h2 = hexa_string2.split(' ')\n"
   ]
  },
  {
   "cell_type": "code",
   "execution_count": 61,
   "id": "07205374",
   "metadata": {
    "scrolled": true
   },
   "outputs": [
    {
     "name": "stdout",
     "output_type": "stream",
     "text": [
      "HELLO\n",
      "GGOREB"
     ]
    }
   ],
   "source": [
    "#16진수 문자를 심진수로 바꾸기 int\n",
    "#십진수문자를 chr로 문자로 바꾸기\n",
    "\n",
    "\n",
    "for i in h1:                     \n",
    "    d =int(i, 16)\n",
    "    char = chr(d)\n",
    "    print(char, end='')\n",
    "\n",
    "print()\n",
    "\n",
    "for i in h2:                     \n",
    "    d =int(i, 16)\n",
    "    char = chr(d)\n",
    "    print(char, end='')"
   ]
  },
  {
   "cell_type": "code",
   "execution_count": 64,
   "id": "b0a6620f",
   "metadata": {
    "scrolled": true
   },
   "outputs": [
    {
     "name": "stdout",
     "output_type": "stream",
     "text": [
      "HELLO\n",
      "GGOREB"
     ]
    }
   ],
   "source": [
    "#16진수 문자를 심진수로 바꾸기 int\n",
    "#십진수문자를 chr로 문자로 바꾸기\n",
    "\n",
    "def show_hex_to_ch(t):\n",
    "    \n",
    "    h1 = t.split(' ')\n",
    "    for i in h1:                     \n",
    "        d =int(i, 16)\n",
    "        char = chr(d)\n",
    "        print(char, end='')\n",
    "        \n",
    "show_hex_to_ch(hexa_string1)\n",
    "print()\n",
    "show_hex_to_ch(hexa_string2)"
   ]
  },
  {
   "cell_type": "code",
   "execution_count": null,
   "id": "4e706b2d",
   "metadata": {},
   "outputs": [],
   "source": [
    "#내장함수(2)\n",
    "\n",
    "# isinstance() : 입력받은 변수와 클래스가 같은 인스턴스인지 확인해주는 함수\n",
    "# map () : 입력된 값에 연산결과를 반영하여 반환하는 함수와 반복 가능한(iterable) \n",
    "         # 자료를 입력받은 후 함수 결과값들을 묶어서 돌려주는 함수\n",
    "# filter 와 사용법 비슷함\n",
    "\n",
    "# zip() : 반복 가능한 자료형 묶음별 요소들을 각 순번에 맞춰 \n",
    "          #튜플로 묶어진 리스트를 돌려주는 함수\n",
    "          #리스트 개수가 맞아야함"
   ]
  },
  {
   "cell_type": "code",
   "execution_count": 66,
   "id": "18dcecf0",
   "metadata": {},
   "outputs": [
    {
     "name": "stdout",
     "output_type": "stream",
     "text": [
      "<class 'int'>\n",
      "True\n",
      "<class 'str'>\n",
      "False\n",
      "<class 'bool'>\n",
      "True\n",
      "<class 'dict'>\n",
      "False\n",
      "<class 'list'>\n",
      "False\n",
      "<class 'int'>\n",
      "True\n",
      "<class 'float'>\n",
      "False\n",
      "<class 'tuple'>\n",
      "False\n",
      "<class 'float'>\n",
      "False\n"
     ]
    }
   ],
   "source": [
    "#isinstance() \n",
    "#숫자만 \n",
    "\n",
    "values = [10, 'a', True, {}, [], -4, 23.24, (1,), -1.2]\n",
    "for v in values : \n",
    "    print(type(v))\n",
    "    print( isinstance(v, int))\n"
   ]
  },
  {
   "cell_type": "code",
   "execution_count": 68,
   "id": "b15ae0c8",
   "metadata": {},
   "outputs": [
    {
     "name": "stdout",
     "output_type": "stream",
     "text": [
      "10\n",
      "True\n",
      "-4\n"
     ]
    }
   ],
   "source": [
    "values = [10, 'a', True, {}, [], -4, 23.24, (1,), -1.2]\n",
    "for v in values : \n",
    "    if isinstance(v, int) == True :\n",
    "        print(v)\n"
   ]
  },
  {
   "cell_type": "code",
   "execution_count": 69,
   "id": "dc789a89",
   "metadata": {},
   "outputs": [
    {
     "data": {
      "text/plain": [
       "[2, 4, 6]"
      ]
     },
     "execution_count": 69,
     "metadata": {},
     "output_type": "execute_result"
    }
   ],
   "source": [
    "data = [1,2,3]\n",
    "\n",
    "list(map( lambda d: d*2, data ))  # 그냥 조건식!\n",
    "list(filter( lambda d: d*2 == 0, data ))   # 불 자료형\n"
   ]
  },
  {
   "cell_type": "code",
   "execution_count": 87,
   "id": "4c0d9ce5",
   "metadata": {},
   "outputs": [
    {
     "name": "stdout",
     "output_type": "stream",
     "text": [
      "[3, 6, 9, 12]\n"
     ]
    }
   ],
   "source": [
    "#연습문제\n",
    "\n",
    "num_list = [1, 2, 3, 4]\n",
    "print(list(map(lambda d:d*3, num_list)))"
   ]
  },
  {
   "cell_type": "code",
   "execution_count": 88,
   "id": "6e8be50e",
   "metadata": {},
   "outputs": [
    {
     "data": {
      "text/plain": [
       "[1, 4, 27, 256]"
      ]
     },
     "execution_count": 88,
     "metadata": {},
     "output_type": "execute_result"
    }
   ],
   "source": [
    "num_list = [1, 2, 3, 4]\n",
    "list(map(lambda d:d**d, num_list))"
   ]
  },
  {
   "cell_type": "code",
   "execution_count": 90,
   "id": "4e27fdf0",
   "metadata": {},
   "outputs": [
    {
     "data": {
      "text/plain": [
       "['H', 'E', 'L', 'L', 'O']"
      ]
     },
     "execution_count": 90,
     "metadata": {},
     "output_type": "execute_result"
    }
   ],
   "source": [
    "hexa = '48 45 4C 4C 4F'\n",
    "\n",
    "list(map( lambda t : chr(int(t,16)),\n",
    "     [t for t in hexa.split(' ') ]\n",
    "))\n",
    "\n",
    "\n",
    "#[t for t in hexa.split(' ') ]\n",
    "\n",
    "#lambda t : chr(int(t,16))\n"
   ]
  },
  {
   "cell_type": "code",
   "execution_count": 92,
   "id": "35b34f74",
   "metadata": {},
   "outputs": [
    {
     "data": {
      "text/plain": [
       "'HELLO'"
      ]
     },
     "execution_count": 92,
     "metadata": {},
     "output_type": "execute_result"
    }
   ],
   "source": [
    "''.join(list(map( lambda t : chr(int(t,16)),\n",
    "     [t for t in hexa.split(' ') ]\n",
    ")))"
   ]
  },
  {
   "cell_type": "code",
   "execution_count": 111,
   "id": "daa78fc1",
   "metadata": {},
   "outputs": [
    {
     "name": "stdout",
     "output_type": "stream",
     "text": [
      "65 83 67 73 73 32 84 65 66 76 69 \n",
      "80 89 84 72 79 78 \n"
     ]
    }
   ],
   "source": [
    "string1 = 'ASCII TABLE'\n",
    "string2 = 'PYTHON'\n",
    "def show_ch_to_ascii(string):  # 함수 이름\n",
    "    for s in string:\n",
    "        code = ord(s)\n",
    "        print(code, end=' ')\n",
    "    print()\n",
    "    \n",
    "show_ch_to_ascii(string1)\n",
    "show_ch_to_ascii(string2)"
   ]
  },
  {
   "cell_type": "code",
   "execution_count": 113,
   "id": "828407a2",
   "metadata": {},
   "outputs": [
    {
     "ename": "SyntaxError",
     "evalue": "invalid syntax (Temp/ipykernel_8868/777102847.py, line 7)",
     "output_type": "error",
     "traceback": [
      "\u001b[1;36m  File \u001b[1;32m\"C:\\Users\\admin\\AppData\\Local\\Temp/ipykernel_8868/777102847.py\"\u001b[1;36m, line \u001b[1;32m7\u001b[0m\n\u001b[1;33m    d = {'a',:10, 'c':5, 'b':12, 'd':1}\u001b[0m\n\u001b[1;37m             ^\u001b[0m\n\u001b[1;31mSyntaxError\u001b[0m\u001b[1;31m:\u001b[0m invalid syntax\n"
     ]
    }
   ],
   "source": [
    "# dict에서 값 기준으로 정렬하고 싶을떄\n",
    "\n",
    "#sorted() :  반복 가능한 자료형을 입력받아 오름차순 정렬된 리스트를 돌려주는 함수\n",
    "#주로 dictionary 를 정렬할떄 사용함\n",
    "\n",
    "import operator\n",
    "d = {'a',:10, 'c':5, 'b':12, 'd':1}\n",
    "d = sorted(d.items(), key=operator, itemgetter(1)) #reverse=True 역순 정렬\n",
    "print(d)"
   ]
  },
  {
   "cell_type": "code",
   "execution_count": 118,
   "id": "e0ca814c",
   "metadata": {},
   "outputs": [
    {
     "data": {
      "text/plain": [
       "dict"
      ]
     },
     "execution_count": 118,
     "metadata": {},
     "output_type": "execute_result"
    }
   ],
   "source": [
    "#실전 문제 매장 데이터 통계\n",
    "\n",
    "import requests\n",
    "res = requests.get('http://ggoreb.com/quiz/shop.jsp')\n",
    "obj = res.json()\n",
    "type(obj)"
   ]
  },
  {
   "cell_type": "code",
   "execution_count": 194,
   "id": "af0c6451",
   "metadata": {},
   "outputs": [],
   "source": [
    "#원하는 데이터는 address와 kind\n",
    "kind_dict = {}\n",
    "address_dict = {}"
   ]
  },
  {
   "cell_type": "code",
   "execution_count": 195,
   "id": "df9d02ef",
   "metadata": {},
   "outputs": [],
   "source": [
    "#업종별 매장 수 계산\n",
    "\n",
    "shop_list = obj['list']\n",
    "for shop in shop_list:\n",
    "    address = shop['address']\n",
    "    address = address[:10]\n",
    "    kind = shop['kind']\n",
    "    \n",
    "    if kind in kind_dict:\n",
    "        kind_dict[kind] += 1\n",
    "    else :\n",
    "        kind_dict[kind] = 1\n",
    "\n",
    "        \n",
    "    if address in address_dict:\n",
    "        address_dict[address] += 1\n",
    "    else :\n",
    "        address_dict[address] = 1"
   ]
  },
  {
   "cell_type": "code",
   "execution_count": 196,
   "id": "fd3be184",
   "metadata": {
    "collapsed": true
   },
   "outputs": [
    {
     "data": {
      "text/plain": [
       "{'신변잡화-기타잡화': 1,\n",
       " '일반휴게음식-일반한식': 2,\n",
       " '사무통신-통신기기': 1,\n",
       " '학원-예•체능계학원': 1,\n",
       " '가구-기타가구': 53,\n",
       " '가구-일반가구': 316,\n",
       " '가구-철제가구': 3,\n",
       " '건강식품-기타건강식품': 166,\n",
       " '건강식품-인삼제품': 12,\n",
       " '건강식품-홍삼제품': 27,\n",
       " '건축자재-건축용 요업제품': 58,\n",
       " '건축자재-기타건축자재': 262,\n",
       " '건축자재-목재•석재•철물': 98}"
      ]
     },
     "execution_count": 196,
     "metadata": {},
     "output_type": "execute_result"
    }
   ],
   "source": [
    " kind_dict"
   ]
  },
  {
   "cell_type": "code",
   "execution_count": 197,
   "id": "6c7f15e8",
   "metadata": {
    "scrolled": false
   },
   "outputs": [
    {
     "data": {
      "text/plain": [
       "{'경기 용인시 수지구': 202, '경기 용인시 처인구': 475, '경기 용인시 기흥구': 323}"
      ]
     },
     "execution_count": 197,
     "metadata": {},
     "output_type": "execute_result"
    }
   ],
   "source": [
    "address_dict"
   ]
  },
  {
   "cell_type": "code",
   "execution_count": 206,
   "id": "7763ba3d",
   "metadata": {},
   "outputs": [
    {
     "data": {
      "text/plain": [
       "(['신변잡화-기타잡화',\n",
       "  '일반휴게음식-일반한식',\n",
       "  '사무통신-통신기기',\n",
       "  '학원-예•체능계학원',\n",
       "  '가구-기타가구',\n",
       "  '가구-일반가구',\n",
       "  '가구-철제가구',\n",
       "  '건강식품-기타건강식품',\n",
       "  '건강식품-인삼제품',\n",
       "  '건강식품-홍삼제품',\n",
       "  '건축자재-건축용 요업제품',\n",
       "  '건축자재-기타건축자재',\n",
       "  '건축자재-목재•석재•철물'],\n",
       " [1, 2, 1, 1, 53, 316, 3, 166, 12, 27, 58, 262, 98])"
      ]
     },
     "execution_count": 206,
     "metadata": {},
     "output_type": "execute_result"
    }
   ],
   "source": [
    "x = list(kind_dict.keys())\n",
    "y = list(kind_dict.values())\n",
    "x,y"
   ]
  },
  {
   "cell_type": "code",
   "execution_count": 218,
   "id": "46d21804",
   "metadata": {
    "scrolled": true
   },
   "outputs": [
    {
     "data": {
      "image/png": "[encoded data removed]",
      "text/plain": [
       "<Figure size 432x288 with 1 Axes>"
      ]
     },
     "metadata": {
      "needs_background": "light"
     },
     "output_type": "display_data"
    }
   ],
   "source": [
    "import matplotlib.pyplot as plt\n",
    "\n",
    "from matplotlib import font_manager, rc\n",
    "font_name = font_manager.FontProperties(\n",
    "fname='c:/Windows/Fonts/malgun.ttf').get_name()\n",
    "rc('font', family=font_name)\n",
    "\n",
    "\n",
    "plt.bar(x,y, color='red')\n",
    "plt.xticks(x, rotation = -90)\n",
    "plt.grid()\n",
    "plt.show()"
   ]
  },
  {
   "cell_type": "code",
   "execution_count": 234,
   "id": "ab335f65",
   "metadata": {
    "scrolled": false
   },
   "outputs": [],
   "source": [
    "#연습문제 _ zip()\n",
    "\n",
    "list1 = [1, 2, 3, 4]\n",
    "list2 = ['a', 'b', 'c', 'd']\n",
    "list3 = ['가', '나', '다', '라']\n",
    "\n",
    "list(zip(list1,list2,list3))"
   ]
  },
  {
   "cell_type": "code",
   "execution_count": 250,
   "id": "627cd9bb",
   "metadata": {},
   "outputs": [
    {
     "data": {
      "text/plain": [
       "'123456ghixyz'"
      ]
     },
     "execution_count": 250,
     "metadata": {},
     "output_type": "execute_result"
    }
   ],
   "source": [
    "before = 'abcdef'  \n",
    "after = '123456'\n",
    "\n",
    "text = 'abcdefghixyz'\n",
    "trans = ''.maketrans( before, after)\n",
    "\n",
    "text.translate(trans)"
   ]
  },
  {
   "cell_type": "code",
   "execution_count": 274,
   "id": "ea9e028f",
   "metadata": {},
   "outputs": [
    {
     "name": "stdout",
     "output_type": "stream",
     "text": [
      "g fmnc wms bgblr rpylqjyrc gr zw fylb. rfyrq ufyr amknsrcpq ypc dmp. bmgle gr gl zw fylb gq glcddgagclr ylb rfyr'q ufw rfgq rcvr gq qm jmle. sqgle qrpgle.kyicrpylq() gq pcamkkclbcb. lmu ynnjw ml rfc spj.\n"
     ]
    }
   ],
   "source": [
    "import requests as req\n",
    "res = req.get('http://ggoreb.com/quiz/encrypt_string.txt')\n",
    "text = res.text\n",
    "print(text)"
   ]
  },
  {
   "cell_type": "code",
   "execution_count": 280,
   "id": "d0d95bbd",
   "metadata": {},
   "outputs": [
    {
     "data": {
      "text/plain": [
       "\"i hope you didnt translate it by hand. thats what computers are for. doing it in by hand is inefficient and that's why this text is so long. using string.maketrans() is recommended. now apply on the url.\""
      ]
     },
     "execution_count": 280,
     "metadata": {},
     "output_type": "execute_result"
    }
   ],
   "source": [
    "before = ''.join([chr(x) for x in range(ord('a'),ord('z')+1)])\n",
    "after = ''.join([chr(x) for x in range(ord('c'),ord('z')+1)])\n",
    "after += 'ab'\n",
    "\n",
    "trans = ''.maketrans( before, after)\n",
    "\n",
    "text.translate(trans)"
   ]
  },
  {
   "cell_type": "code",
   "execution_count": 282,
   "id": "672100da",
   "metadata": {},
   "outputs": [
    {
     "data": {
      "text/plain": [
       "'ocr'"
      ]
     },
     "execution_count": 282,
     "metadata": {},
     "output_type": "execute_result"
    }
   ],
   "source": [
    "before = ''.join([chr(x) for x in range(ord('a'),ord('z')+1)])\n",
    "after = ''.join([chr(x) for x in range(ord('c'),ord('z')+1)])\n",
    "after += 'ab'\n",
    "\n",
    "t='map'\n",
    "trans = ''.maketrans( before, after)\n",
    "\n",
    "t.translate(trans)   #나온 값을 도메인에 map 대신 넣어주면 됨"
   ]
  },
  {
   "cell_type": "code",
   "execution_count": null,
   "id": "5521bc13",
   "metadata": {},
   "outputs": [],
   "source": []
  },
  {
   "cell_type": "code",
   "execution_count": null,
   "id": "9651ee23",
   "metadata": {},
   "outputs": [],
   "source": []
  },
  {
   "cell_type": "code",
   "execution_count": null,
   "id": "eeb748ed",
   "metadata": {},
   "outputs": [],
   "source": []
  },
  {
   "cell_type": "code",
   "execution_count": null,
   "id": "d2d29d00",
   "metadata": {},
   "outputs": [],
   "source": []
  }
 ],
 "metadata": {
  "kernelspec": {
   "display_name": "Python 3 (ipykernel)",
   "language": "python",
   "name": "python3"
  },
  "language_info": {
   "codemirror_mode": {
    "name": "ipython",
    "version": 3
   },
   "file_extension": ".py",
   "mimetype": "text/x-python",
   "name": "python",
   "nbconvert_exporter": "python",
   "pygments_lexer": "ipython3",
   "version": "3.9.7"
  }
 },
 "nbformat": 4,
 "nbformat_minor": 5
}
