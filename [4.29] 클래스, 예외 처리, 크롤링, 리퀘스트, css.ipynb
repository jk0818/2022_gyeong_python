{
 "cells": [
  {
   "cell_type": "code",
   "execution_count": null,
   "id": "1d4f44a5",
   "metadata": {},
   "outputs": [],
   "source": [
    "#class\n",
    " # 새로운 데이터 형태, 참조 자료형\n",
    " # __init__() 생성자 함수로 데이터 초기화 가능\n",
    " # 객체지향 프로그래밍 가능\n",
    "   #라이브러리 형태로 배포 가능\n",
    "   #함수와 비슷하게 한번 작성된 코드로 여러곳에서 사용 가능\n",
    "# 자료형 분류\n",
    " #기본자료형 (값 저장) : Bool, String, Number\n",
    " #참조자료형 (주소 저장) : List, Tuple, Set, Dictionary, Class\n",
    "\n",
    "\n",
    "#변수 = 클래스()\n",
    "#변수.함수()"
   ]
  },
  {
   "cell_type": "code",
   "execution_count": 2,
   "id": "3d52249e",
   "metadata": {},
   "outputs": [
    {
     "data": {
      "text/plain": [
       "['a']"
      ]
     },
     "execution_count": 2,
     "metadata": {},
     "output_type": "execute_result"
    }
   ],
   "source": [
    "items = []\n",
    "items.append('a')\n",
    "items"
   ]
  },
  {
   "cell_type": "code",
   "execution_count": 3,
   "id": "6443e3ba",
   "metadata": {},
   "outputs": [
    {
     "name": "stdout",
     "output_type": "stream",
     "text": [
      "전원 ON\n",
      "전원 OFF\n"
     ]
    }
   ],
   "source": [
    "class Computer:\n",
    "    power = False\n",
    "    def powerOn(self):\n",
    "        self.power = True\n",
    "        print('전원 ON')\n",
    "    def powerOff(self):\n",
    "        self.power = False\n",
    "        print('전원 OFF')\n",
    "com = Computer()\n",
    "com.powerOn()\n",
    "com.powerOff()"
   ]
  },
  {
   "cell_type": "code",
   "execution_count": 6,
   "id": "9eef7a8a",
   "metadata": {},
   "outputs": [
    {
     "data": {
      "text/plain": [
       "(2244436331104, <__main__.Computer at 0x20a92d48a60>)"
      ]
     },
     "execution_count": 6,
     "metadata": {},
     "output_type": "execute_result"
    }
   ],
   "source": [
    "id(com), com"
   ]
  },
  {
   "cell_type": "code",
   "execution_count": 7,
   "id": "980628ad",
   "metadata": {},
   "outputs": [
    {
     "data": {
      "text/plain": [
       "(2244455967376, <__main__.Computer at 0x20a94002a90>)"
      ]
     },
     "execution_count": 7,
     "metadata": {},
     "output_type": "execute_result"
    }
   ],
   "source": [
    "c = Computer()\n",
    "id(c), c"
   ]
  },
  {
   "cell_type": "code",
   "execution_count": 9,
   "id": "41baad1a",
   "metadata": {},
   "outputs": [
    {
     "name": "stdout",
     "output_type": "stream",
     "text": [
      "가나다라카타파하\n",
      "ABCDWXYZ\n"
     ]
    }
   ],
   "source": [
    " # 변수 선언 및 초기화\n",
    " # write 메소드 작성\n",
    " # show 메소드 작성\n",
    "\n",
    "class Letter:\n",
    "    letter =''\n",
    "    def write(self, text): #가나다라를 받을 수 있게 변수 생성\n",
    "        self.letter += text\n",
    "    \n",
    "    def show(self):\n",
    "        return self.letter\n",
    "\n",
    "letter1 = Letter()\n",
    "letter1.write('가나다라')\n",
    "letter1.write('카타파하')\n",
    "letter2 = Letter()\n",
    "letter2.write('ABCD')\n",
    "letter2.write('WXYZ')\n",
    "print(letter1.show())\n",
    "print(letter2.show())"
   ]
  },
  {
   "cell_type": "code",
   "execution_count": 11,
   "id": "3a20e078",
   "metadata": {},
   "outputs": [
    {
     "data": {
      "text/plain": [
       "'a'"
      ]
     },
     "execution_count": 11,
     "metadata": {},
     "output_type": "execute_result"
    }
   ],
   "source": [
    "class Letter:\n",
    "    letter =''\n",
    "    def write(self, text): #가나다라를 받을 수 있게 변수 생성\n",
    "        self.letter += text\n",
    "    \n",
    "    def show(self):\n",
    "        return self.letter\n",
    "\n",
    "class Email(Letter):  # 상속\n",
    "    pass            # 아무것도 하지 않고 통과하는 함수 pass\n",
    "                    # Letter클래스가 가진 기능을 Email에 그대로 전달\n",
    "email = Email()         \n",
    "email.write('a')\n",
    "email.show()"
   ]
  },
  {
   "cell_type": "code",
   "execution_count": null,
   "id": "b3d12b53",
   "metadata": {},
   "outputs": [],
   "source": [
    "#모듈 (module)\n",
    "    #파이썬 코드를 논리적으로 묶어서 관리하고 사용할 수 있도록 만들어 둔 것\n",
    "    # py 확장자를 가지는 1개의 파이썬 파일이 하나의 모듈이 됨\n",
    "    "
   ]
  },
  {
   "cell_type": "code",
   "execution_count": null,
   "id": "0c7d24d8",
   "metadata": {},
   "outputs": [],
   "source": [
    "import random  #모듈(파일)\n",
    "import matplotlib.pyplot as plt\n",
    "#왜 점이 찍히는 가\n",
    "  # matplotlib 이 클래스인 경우\n",
    "  # matplotlibdl이 폴더인 경우  --> 폴더명.파일명"
   ]
  },
  {
   "cell_type": "code",
   "execution_count": 20,
   "id": "5318e52c",
   "metadata": {},
   "outputs": [
    {
     "data": {
      "text/plain": [
       "5"
      ]
     },
     "execution_count": 20,
     "metadata": {},
     "output_type": "execute_result"
    }
   ],
   "source": [
    "from random import randint\n",
    "randint(1,6)"
   ]
  },
  {
   "cell_type": "code",
   "execution_count": 21,
   "id": "cb16e114",
   "metadata": {},
   "outputs": [
    {
     "data": {
      "text/plain": [
       "[<matplotlib.lines.Line2D at 0x20a96882a60>]"
      ]
     },
     "execution_count": 21,
     "metadata": {},
     "output_type": "execute_result"
    },
    {
     "data": {
      "image/png": "[encoded data removed]",
      "text/plain": [
       "<Figure size 432x288 with 1 Axes>"
      ]
     },
     "metadata": {
      "needs_background": "light"
     },
     "output_type": "display_data"
    }
   ],
   "source": [
    "import matplotlib.pyplot\n",
    "matplotlib.pyplot.plot([1,2,3,4])\n"
   ]
  },
  {
   "cell_type": "code",
   "execution_count": 23,
   "id": "4609085e",
   "metadata": {},
   "outputs": [
    {
     "name": "stdout",
     "output_type": "stream",
     "text": [
      "sound mp3!\n"
     ]
    }
   ],
   "source": [
    "import driver.sound.mp3"
   ]
  },
  {
   "cell_type": "code",
   "execution_count": 24,
   "id": "d6b8d8f6",
   "metadata": {},
   "outputs": [
    {
     "name": "stdout",
     "output_type": "stream",
     "text": [
      "mp3~~\n"
     ]
    }
   ],
   "source": [
    "driver.sound.mp3.sound()"
   ]
  },
  {
   "cell_type": "code",
   "execution_count": 25,
   "id": "49446140",
   "metadata": {},
   "outputs": [
    {
     "name": "stdout",
     "output_type": "stream",
     "text": [
      "mp3~~\n"
     ]
    }
   ],
   "source": [
    "from driver.sound.mp3 import sound\n",
    "sound()"
   ]
  },
  {
   "cell_type": "code",
   "execution_count": 28,
   "id": "ece348fd",
   "metadata": {},
   "outputs": [
    {
     "name": "stdout",
     "output_type": "stream",
     "text": [
      "mp3~~\n"
     ]
    }
   ],
   "source": [
    "from driver.sound import mp3\n",
    "mp3.sound()"
   ]
  },
  {
   "cell_type": "code",
   "execution_count": 33,
   "id": "773efa6f",
   "metadata": {},
   "outputs": [],
   "source": [
    "from package.com.ggoreb.python.writer import file\n",
    "file.write()"
   ]
  },
  {
   "cell_type": "code",
   "execution_count": 42,
   "id": "f1f17b6e",
   "metadata": {},
   "outputs": [
    {
     "name": "stdout",
     "output_type": "stream",
     "text": [
      "입력0\n"
     ]
    }
   ],
   "source": [
    "#예외처리\n",
    "\n",
    "a = 2\n",
    "try:\n",
    "    b = int(input('입력'))\n",
    "except:\n",
    "    b =0\n",
    "    \n",
    "if b == 0:\n",
    "    pass\n",
    "else:\n",
    "    print(a/b)"
   ]
  },
  {
   "cell_type": "code",
   "execution_count": 45,
   "id": "8303ef12",
   "metadata": {},
   "outputs": [
    {
     "name": "stdout",
     "output_type": "stream",
     "text": [
      "1\n",
      "10\n",
      "정상 수행 완료\n",
      "항상 실행\n"
     ]
    }
   ],
   "source": [
    "try:\n",
    "    print(1)\n",
    "    \n",
    "#    li = list()\n",
    "#    li[5]\n",
    "    \n",
    "    print(10)\n",
    "except IndexError as e :\n",
    "    print(e)\n",
    "else :\n",
    "    print('정상 수행 완료')\n",
    "finally:\n",
    "    print('항상 실행')"
   ]
  },
  {
   "cell_type": "code",
   "execution_count": null,
   "id": "6ecf5fab",
   "metadata": {},
   "outputs": [],
   "source": [
    "#Crawling 크롤링 --> 데이터 수집\n",
    " # requests  : 가져올때 쓰는 라이브러리\n",
    "    # 우리는 보통 서버에서 가져오게 될것 --> html, json\n",
    " # BeautifulSoup  : 가져온데이터에서 필요한 내용을 뽑아낼 수 있음\n",
    "\n"
   ]
  },
  {
   "cell_type": "code",
   "execution_count": 46,
   "id": "c59d2d1e",
   "metadata": {
    "scrolled": true
   },
   "outputs": [
    {
     "name": "stdout",
     "output_type": "stream",
     "text": [
      "Collecting bs4\n",
      "  Downloading bs4-0.0.1.tar.gz (1.1 kB)\n",
      "Requirement already satisfied: beautifulsoup4 in c:\\programdata\\anaconda3\\lib\\site-packages (from bs4) (4.10.0)\n",
      "Requirement already satisfied: soupsieve>1.2 in c:\\programdata\\anaconda3\\lib\\site-packages (from beautifulsoup4->bs4) (2.2.1)\n",
      "Building wheels for collected packages: bs4\n",
      "  Building wheel for bs4 (setup.py): started\n",
      "  Building wheel for bs4 (setup.py): finished with status 'done'\n",
      "  Created wheel for bs4: filename=bs4-0.0.1-py3-none-any.whl size=1271 sha256=5f1583a8965d367e51d296b8d8a4e35e365aef16c6c648277579ec0f6cb50113\n",
      "  Stored in directory: c:\\users\\admin\\appdata\\local\\pip\\cache\\wheels\\73\\2b\\cb\\099980278a0c9a3e57ff1a89875ec07bfa0b6fcbebb9a8cad3\n",
      "Successfully built bs4\n",
      "Installing collected packages: bs4\n",
      "Successfully installed bs4-0.0.1\n"
     ]
    }
   ],
   "source": [
    "!pip install bs4"
   ]
  },
  {
   "cell_type": "code",
   "execution_count": null,
   "id": "3685d446",
   "metadata": {},
   "outputs": [],
   "source": [
    "# get을 통해 데이터 가져옴\n",
    "# result.state_code로 확익했을떄 200이면 정상!\n",
    "# 한글 깨짐 --> 인코딩 필요 --> result.encoding = 'utf-8'"
   ]
  },
  {
   "cell_type": "code",
   "execution_count": 55,
   "id": "8a0cd90f",
   "metadata": {
    "scrolled": true
   },
   "outputs": [
    {
     "name": "stdout",
     "output_type": "stream",
     "text": [
      "Jill\n",
      "Smith\n",
      "50\n",
      "Eve\n",
      "Jackson\n",
      "94\n",
      "John\n",
      "Doe\n",
      "80\n"
     ]
    }
   ],
   "source": [
    "import requests\n",
    "result = requests.get(\n",
    "    'http://ggoreb.com/python/html/data1.html').text\n",
    "s_idx = 0\n",
    "e_idx = 0\n",
    "while True:\n",
    "    s_idx = result.find('<td>', e_idx)  #시작위치 td를 기준\n",
    "    if s_idx == -1:\n",
    "        break\n",
    "    e_idx = result.find('</td>', s_idx)  # 끝 위치를 td를 기준으로\n",
    "    print(result[s_idx + 4 : e_idx])"
   ]
  },
  {
   "cell_type": "markdown",
   "id": "1a0f79a7",
   "metadata": {},
   "source": [
    "<a href=\"http://google.com\" target=\"_blank\">Google</a>\n",
    "<a href=\"01_html_1.md\">html basic</a>"
   ]
  },
  {
   "cell_type": "markdown",
   "id": "ed56786c",
   "metadata": {},
   "source": [
    "<img src=\"http://ggoreb.com/logo.jpg\" alt=\"ggoreb logo\">"
   ]
  },
  {
   "cell_type": "markdown",
   "id": "c91cf804",
   "metadata": {},
   "source": [
    "<select>\n",
    "<option value=\"1\">option 1</option>\n",
    "<option value=\"2\">option 2</option>\n",
    "<option value=\"3\">option 3</option>\n",
    "</select>"
   ]
  },
  {
   "cell_type": "markdown",
   "id": "28dc495e",
   "metadata": {},
   "source": [
    "BeautifulSoup"
   ]
  },
  {
   "cell_type": "code",
   "execution_count": 58,
   "id": "11073efe",
   "metadata": {},
   "outputs": [],
   "source": [
    "#데이터 가져오기\n",
    "import requests\n",
    "address = 'http://ggoreb.com/python/html/example.html'\n",
    "res = requests.get(address)\n",
    "res.encoding = None"
   ]
  },
  {
   "cell_type": "code",
   "execution_count": 59,
   "id": "114769fd",
   "metadata": {},
   "outputs": [],
   "source": [
    "#객체 생성\n",
    "from bs4 import BeautifulSoup as bs\n",
    "soup = bs(res.text)"
   ]
  },
  {
   "cell_type": "code",
   "execution_count": 61,
   "id": "caf516ea",
   "metadata": {
    "collapsed": true
   },
   "outputs": [
    {
     "name": "stdout",
     "output_type": "stream",
     "text": [
      "a\n",
      "b\n",
      "c\n",
      "d\n",
      "e\n",
      "f\n",
      "g\n",
      "h\n",
      "i\n",
      "This is a paragraph.\n",
      "This is another paragraph.\n"
     ]
    }
   ],
   "source": [
    "p_list = soup.find_all('p')\n",
    "\n",
    "for p in p_list:\n",
    "    print(p.text) #p_list안의 text들을 데려옴"
   ]
  },
  {
   "cell_type": "code",
   "execution_count": 63,
   "id": "9a98c96d",
   "metadata": {},
   "outputs": [
    {
     "data": {
      "text/plain": [
       "'Page title'"
      ]
     },
     "execution_count": 63,
     "metadata": {},
     "output_type": "execute_result"
    }
   ],
   "source": [
    "title = soup.find('title')\n",
    "title.text"
   ]
  },
  {
   "cell_type": "code",
   "execution_count": 65,
   "id": "41018dd2",
   "metadata": {},
   "outputs": [
    {
     "data": {
      "text/plain": [
       "['ex_class']"
      ]
     },
     "execution_count": 65,
     "metadata": {},
     "output_type": "execute_result"
    }
   ],
   "source": [
    "#속성을 이용해서 데려오기\n",
    "soup.find_all('div')[1].attrs.get('class')\n",
    "\n",
    "soup.find_all('div')[1]['class']"
   ]
  },
  {
   "cell_type": "code",
   "execution_count": 66,
   "id": "0c265cb8",
   "metadata": {},
   "outputs": [
    {
     "data": {
      "text/plain": [
       "<div class=\"ex_class\">\n",
       "<p>d</p>\n",
       "<p>e</p>\n",
       "<p>f</p>\n",
       "</div>"
      ]
     },
     "execution_count": 66,
     "metadata": {},
     "output_type": "execute_result"
    }
   ],
   "source": [
    "soup.find(attrs={'class':'ex_class'})"
   ]
  },
  {
   "cell_type": "code",
   "execution_count": null,
   "id": "712e7b99",
   "metadata": {},
   "outputs": [],
   "source": []
  },
  {
   "cell_type": "code",
   "execution_count": 92,
   "id": "f9760571",
   "metadata": {},
   "outputs": [],
   "source": [
    "#네이버 증권 데이터 가져오기\n",
    "import requests\n",
    "address = 'https://finance.naver.com/'\n",
    "res = requests.get(address)\n",
    "res.encoding = None"
   ]
  },
  {
   "cell_type": "code",
   "execution_count": 93,
   "id": "ee2bfb1e",
   "metadata": {},
   "outputs": [],
   "source": [
    "from bs4 import BeautifulSoup as bs\n",
    "soup = bs(res.text)"
   ]
  },
  {
   "cell_type": "code",
   "execution_count": 90,
   "id": "0fd10b6d",
   "metadata": {
    "collapsed": true
   },
   "outputs": [
    {
     "data": {
      "text/plain": [
       "[<span class=\"num_quot up\"> <span class=\"num\">2,695.05</span> <span class=\"num2\">27.56</span> <span class=\"num3\"><span class=\"blind\">+</span>1.03<span class=\"per\">%</span></span> <span class=\"blind\">상승</span> </span>,\n",
       " <span class=\"num_quot up\"> <span class=\"num\">904.75</span> <span class=\"num2\">12.53</span> <span class=\"num3\"><span class=\"blind\">+</span>1.40<span class=\"per\">%</span></span> <span class=\"blind\">상승</span> </span>,\n",
       " <span class=\"num_quot up\"> <span class=\"num\">355.08</span> <span class=\"num2\">4.92</span> <span class=\"num3\"><span class=\"blind\">+</span>1.41<span class=\"per\">%</span></span> <span class=\"blind\">상승</span> </span>]"
      ]
     },
     "execution_count": 90,
     "metadata": {},
     "output_type": "execute_result"
    }
   ],
   "source": [
    "p_span =soup.find_all(attrs={'class':'num_quot'})\n",
    "p_span"
   ]
  },
  {
   "cell_type": "code",
   "execution_count": 95,
   "id": "8fbac27c",
   "metadata": {
    "collapsed": true
   },
   "outputs": [
    {
     "data": {
      "text/plain": [
       "[<div class=\"section_stock_market\">\n",
       " <div class=\"group_heading\">\n",
       " <h2 class=\"h_market\"><span>오늘의 증시</span></h2>\n",
       " <div class=\"ly_realtime\">\n",
       " <span class=\"btn_realtime\" href=\"#\"> </span>\n",
       " <span id=\"time\"> 2022.04.29<span>장마감</span> </span>\n",
       " </div>\n",
       " </div>\n",
       " <div class=\"section_stock\">\n",
       " <div class=\"kospi_area group_quot quot_opn\" style=\"height:269px\">\n",
       " <div class=\"heading_area\">\n",
       " <h4 class=\"h_opn\"><a class=\"_stock_section\" href=\"/sise/sise_index.naver?code=KOSPI\" onclick=\"clickcr(this, 'tsc*k.title', '', '', event);\" title=\"코스피지수 상세보기\"><em><span class=\"blind\">코스피</span></em></a></h4>\n",
       " <a href=\"/sise/sise_index.naver?code=KOSPI\" onclick=\"clickcr(this, 'tsc*k.title', '', '', event);\" title=\"코스피지수 상세보기\"> <span class=\"num_quot up\"> <span class=\"num\">2,695.05</span> <span class=\"num2\">27.56</span> <span class=\"num3\"><span class=\"blind\">+</span>1.03<span class=\"per\">%</span></span> <span class=\"blind\">상승</span> </span> </a>\n",
       " <span class=\"clse_bg\"></span>\n",
       " </div>\n",
       " <div class=\"chart_area\">\n",
       " <p class=\"blind\">코스피 시세 차트</p>\n",
       " <a href=\"/sise/sise_index.naver?code=KOSPI\" onclick=\"clickcr(this, 'tsc*k.chart', '', '', event);\" title=\"코스피지수 상세보기\"><img alt=\"코스피지수 상세보기\" height=\"127\" src=\"https://ssl.pstatic.net/imgfinance/chart/main/KOSPI.png?sidcode=1651214820698\" width=\"301\"/></a>\n",
       " </div>\n",
       " <div class=\"dsc_area\">\n",
       " <dl class=\"dl\">\n",
       " <dt>\n",
       " <a href=\"/sise/sise_trans_style.naver?sosok=01\" onclick=\"clickcr(this, 'tsc*k.private', '', '', event);\" title=\"투자자별 매매 동향 상세보기\">개인</a>\n",
       " </dt>\n",
       " <dd class=\"dn\">\n",
       " <a href=\"/sise/sise_trans_style.naver?sosok=01\" onclick=\"clickcr(this, 'tsc*k.private', '', '', event);\">-4,856</a>\n",
       " <span class=\"blind\">억원</span>\n",
       " </dd>\n",
       " <dt>\n",
       " <a href=\"/sise/sise_trans_style.naver?sosok=01\" onclick=\"clickcr(this, 'tsc*k.foreign', '', '', event);\" title=\"투자자별 매매 동향 상세보기\">외국인</a>\n",
       " </dt>\n",
       " <dd class=\"up\">\n",
       " <a href=\"/sise/sise_trans_style.naver?sosok=01\" onclick=\"clickcr(this, 'tsc*k.foreign', '', '', event);\">+139</a>\n",
       " <span class=\"blind\">억원</span>\n",
       " </dd>\n",
       " <dt>\n",
       " <a href=\"/sise/sise_trans_style.naver?sosok=01\" onclick=\"clickcr(this, 'tsc*k.institutional', '', '', event);\" title=\"투자자별 매매 동향 상세보기\">기관</a>\n",
       " </dt>\n",
       " <dd class=\"up\">\n",
       " <a href=\"/sise/sise_trans_style.naver?sosok=01\" onclick=\"clickcr(this, 'tsc*k.institutional', '', '', event);\">+4,899</a>\n",
       " <span class=\"blind\">억원</span>\n",
       " </dd>\n",
       " </dl>\n",
       " <dl class=\"dl2\">\n",
       " <dt class=\"blind\">\n",
       "              상한종목수\n",
       "             </dt>\n",
       " <dd class=\"dd\">\n",
       " <a href=\"/sise/sise_upper.naver\" onclick=\"clickcr(this, 'tsc*k.ceiling', '', '', event);\" title=\"상한종목 상세보기\">2</a>\n",
       " </dd>\n",
       " <dt class=\"blind\">\n",
       "              상승종목수\n",
       "             </dt>\n",
       " <dd class=\"dd2\">\n",
       " <a href=\"/sise/sise_rise.naver?sosok=0\" onclick=\"clickcr(this, 'tsc*k.rise', '', '', event);\" title=\"상승종목 상세보기\">566</a>\n",
       " </dd>\n",
       " <dt class=\"blind\">\n",
       "              보합종목수\n",
       "             </dt>\n",
       " <dd class=\"dd3\">\n",
       " <a href=\"/sise/sise_steady.naver?sosok=0\" onclick=\"clickcr(this, 'tsc*k.steady', '', '', event);\" title=\"보합종목 상세보기\">67</a>\n",
       " </dd>\n",
       " <dt class=\"blind\">\n",
       "              하락종목수\n",
       "             </dt>\n",
       " <dd class=\"dd4\">\n",
       " <a href=\"/sise/sise_fall.naver?sosok=0\" onclick=\"clickcr(this, 'tsc*k.drop', '', '', event);\" title=\"하락종목 상세보기\">294</a>\n",
       " </dd>\n",
       " <dt class=\"blind\">\n",
       "              하한종목수\n",
       "             </dt>\n",
       " <dd class=\"dd5\">\n",
       " <a href=\"/sise/sise_lower.naver\" onclick=\"clickcr(this, 'tsc*k.floor', '', '', event);\" title=\"하한종목 상세보기\">0</a>\n",
       " </dd>\n",
       " </dl>\n",
       " </div>\n",
       " </div>\n",
       " <div class=\"kosdaq_area group_quot\" style=\"height:40px\">\n",
       " <div class=\"heading_area\">\n",
       " <h4><a class=\"_stock_section\" href=\"/sise/sise_index.naver?code=KOSDAQ\" onclick=\"clickcr(this, 'tsc*q.title', '', '', event);\" title=\"코스닥지수 상세보기\"><em><span class=\"blind\">코스닥</span></em></a></h4>\n",
       " <a href=\"/sise/sise_index.naver?code=KOSDAQ\" onclick=\"clickcr(this, 'tsc*q.title', '', '', event);\" title=\"코스닥지수 상세보기\"> <span class=\"num_quot up\"> <span class=\"num\">904.75</span> <span class=\"num2\">12.53</span> <span class=\"num3\"><span class=\"blind\">+</span>1.40<span class=\"per\">%</span></span> <span class=\"blind\">상승</span> </span> </a>\n",
       " <span class=\"clse_bg\"></span>\n",
       " </div>\n",
       " <div class=\"chart_area\">\n",
       " <p class=\"blind\">코스닥 시세 차트</p>\n",
       " <a href=\"/sise/sise_index.naver?code=KOSDAQ\" onclick=\"clickcr(this, 'tsc*q.chart', '', '', event);\" title=\"코스닥지수 상세보기\"><img alt=\"코스닥지수 상세보기\" height=\"127\" src=\"https://ssl.pstatic.net/imgfinance/chart/main/KOSDAQ.png?sidcode=1651214820701\" width=\"301\"/></a>\n",
       " </div>\n",
       " <div class=\"dsc_area\">\n",
       " <dl class=\"dl\">\n",
       " <dt>\n",
       " <a href=\"/sise/sise_trans_style.naver?sosok=02\" onclick=\"clickcr(this, 'tsc*q.private', '', '', event);\" title=\"투자자별 매매 동향 상세보기\">개인</a>\n",
       " </dt>\n",
       " <dd class=\"dn\">\n",
       " <a href=\"/sise/sise_trans_style.naver?sosok=02\" onclick=\"clickcr(this, 'tsc*q.private', '', '', event);\">-1,180</a>\n",
       " <span class=\"blind\">억원</span>\n",
       " </dd>\n",
       " <dt>\n",
       " <a href=\"/sise/sise_trans_style.naver?sosok=02\" onclick=\"clickcr(this, 'tsc*q.foreign', '', '', event);\" title=\"투자자별 매매 동향 상세보기\">외국인</a>\n",
       " </dt>\n",
       " <dd class=\"dn\">\n",
       " <a href=\"/sise/sise_trans_style.naver?sosok=02\" onclick=\"clickcr(this, 'tsc*q.foreign', '', '', event);\">-106</a>\n",
       " <span class=\"blind\">억원</span>\n",
       " </dd>\n",
       " <dt>\n",
       " <a href=\"/sise/sise_trans_style.naver?sosok=02\" onclick=\"clickcr(this, 'tsc*q.institutional', '', '', event);\" title=\"투자자별 매매 동향 상세보기\">기관</a>\n",
       " </dt>\n",
       " <dd class=\"up\">\n",
       " <a href=\"/sise/sise_trans_style.naver?sosok=02\" onclick=\"clickcr(this, 'tsc*q.institutional', '', '', event);\">+1,247</a>\n",
       " <span class=\"blind\">억원</span>\n",
       " </dd>\n",
       " </dl>\n",
       " <dl class=\"dl2\">\n",
       " <dt class=\"blind\">\n",
       "              상한종목수\n",
       "             </dt>\n",
       " <dd class=\"dd\">\n",
       " <a href=\"/sise/sise_upper.naver\" onclick=\"clickcr(this, 'tsc*q.ceiling', '', '', event);\" title=\"상한종목 상세보기\">1</a>\n",
       " </dd>\n",
       " <dt class=\"blind\">\n",
       "              상승종목수\n",
       "             </dt>\n",
       " <dd class=\"dd2\">\n",
       " <a href=\"/sise/sise_rise.naver?sosok=1\" onclick=\"clickcr(this, 'tsc*q.rise', '', '', event);\" title=\"상승종목 상세보기\">1079</a>\n",
       " </dd>\n",
       " <dt class=\"blind\">\n",
       "              보합종목수\n",
       "             </dt>\n",
       " <dd class=\"dd3\">\n",
       " <a href=\"/sise/sise_steady.naver?sosok=1\" onclick=\"clickcr(this, 'tsc*q.steady', '', '', event);\" title=\"보합종목 상세보기\">99</a>\n",
       " </dd>\n",
       " <dt class=\"blind\">\n",
       "              하락종목수\n",
       "             </dt>\n",
       " <dd class=\"dd4\">\n",
       " <a href=\"/sise/sise_fall.naver?sosok=1\" onclick=\"clickcr(this, 'tsc*q.drop', '', '', event);\" title=\"하락종목 상세보기\">291</a>\n",
       " </dd>\n",
       " <dt class=\"blind\">\n",
       "              하한종목수\n",
       "             </dt>\n",
       " <dd class=\"dd5\">\n",
       " <a href=\"/sise/sise_lower.naver\" onclick=\"clickcr(this, 'tsc*q.floor', '', '', event);\" title=\"하한종목 상세보기\">0</a>\n",
       " </dd>\n",
       " </dl>\n",
       " </div>\n",
       " </div>\n",
       " <div class=\"kospi200_area group_quot\" style=\"height:40px\">\n",
       " <div class=\"heading_area\">\n",
       " <h4><a class=\"_stock_section\" href=\"/sise/sise_index.naver?code=KPI200\" onclick=\"clickcr(this, 'tsc*f.title', '', '', event);\" title=\"코스피200지수 상세보기\"><em><span class=\"blind\">코스피200</span></em></a></h4>\n",
       " <a href=\"/sise/sise_index.naver?code=KPI200\" onclick=\"clickcr(this,'tsc*o.title','','',event);\" title=\"코스피200지수 상세보기\"> <span class=\"num_quot up\"> <span class=\"num\">355.08</span> <span class=\"num2\">4.92</span> <span class=\"num3\"><span class=\"blind\">+</span>1.41<span class=\"per\">%</span></span> <span class=\"blind\">상승</span> </span> </a>\n",
       " <span class=\"clse_bg\"></span>\n",
       " </div>\n",
       " <div class=\"chart_area\">\n",
       " <p class=\"blind\">코스피200 시세 차트</p>\n",
       " <a href=\"/sise/sise_index.naver?code=KPI200\" onclick=\"clickcr(this,'tsc*o.chart','','',event);\" title=\"코스피200지수 상세보기\"><img alt=\"코스피200지수 상세보기\" height=\"127\" src=\"https://ssl.pstatic.net/imgfinance/chart/main/KPI200.png?sidcode=1651214820703\" width=\"301\"/></a>\n",
       " </div>\n",
       " <div class=\"dsc_area dsc_area2\">\n",
       " <dl class=\"dl\">\n",
       " <dt>\n",
       "              개인\n",
       "             </dt>\n",
       " <dd class=\"dn\">\n",
       "              -4,514\n",
       "              <span class=\"blind\">억원</span>\n",
       " </dd>\n",
       " <dt>\n",
       "              외국인\n",
       "             </dt>\n",
       " <dd class=\"up\">\n",
       "              +89\n",
       "              <span class=\"blind\">억원</span>\n",
       " </dd>\n",
       " <dt>\n",
       "              기관\n",
       "             </dt>\n",
       " <dd class=\"up\">\n",
       "              +4,581\n",
       "              <span class=\"blind\">억원</span>\n",
       " </dd>\n",
       " </dl>\n",
       " </div>\n",
       " <div class=\"basis_area\">\n",
       " <dl>\n",
       " <dt class=\"dt\">\n",
       " <a href=\"/sise/sise_program.naver?sosok=01\" title=\"프로그램매매 동향 상세보기\"><span class=\"blind\">프로그램</span></a>\n",
       " </dt>\n",
       " <dd class=\"dd2 up\" id=\"_kospiProgram\">\n",
       " <a href=\"/sise/sise_program.naver?sosok=01\" onclick=\"clickcr(this,'tsc*o.program','','',event);\" title=\"프로그램매매 동향 상세보기\">+1,041<span>억</span></a>\n",
       " </dd>\n",
       " <dt class=\"blind\" id=\"basis_name\">\n",
       "              베이시스\n",
       "             </dt>\n",
       " <dd class=\"dd up\" id=\"basis_value\">\n",
       " <span>+0.52 <img alt=\"콘탱고\" height=\"17\" src=\"https://ssl.pstatic.net/imgfinance/finance/btn_contango.gif\" width=\"33\"/> </span>\n",
       " </dd>\n",
       " </dl>\n",
       " </div>\n",
       " </div>\n",
       " </div>\n",
       " </div>]"
      ]
     },
     "execution_count": 95,
     "metadata": {},
     "output_type": "execute_result"
    }
   ],
   "source": [
    "p_div = soup.find_all(attrs={'class':'section_stock_market'})\n",
    "p_div"
   ]
  },
  {
   "cell_type": "code",
   "execution_count": 96,
   "id": "2f464d65",
   "metadata": {},
   "outputs": [],
   "source": [
    "import requests\n",
    "address = 'https://comic.naver.com/webtoon/list?titleId=727188'\n",
    "res = requests.get(address)\n",
    "res.encoding = None\n",
    "\n",
    "from bs4 import BeautifulSoup as bs\n",
    "soup = bs(res.text)"
   ]
  },
  {
   "cell_type": "code",
   "execution_count": 99,
   "id": "9bacf0ee",
   "metadata": {},
   "outputs": [
    {
     "data": {
      "text/plain": [
       "['157화 : 바뀐 사람들',\n",
       " '156화 : 군단장 vs 사령관',\n",
       " '155화 : 폐급과 폐급의 만남',\n",
       " '154화 : 호영이네 아빠의 위기',\n",
       " '153화 : 실력차이',\n",
       " '152화 : 한계돌파2',\n",
       " '151화 : 한계돌파',\n",
       " '150화 : 스펀지 같은 성재',\n",
       " '149화 : 빽이 센 윤호영',\n",
       " '148화 : 호영아, 그건 아니야']"
      ]
     },
     "execution_count": 99,
     "metadata": {},
     "output_type": "execute_result"
    }
   ],
   "source": [
    "[ s.text for s in soup.select('.title > a')]"
   ]
  },
  {
   "cell_type": "code",
   "execution_count": 101,
   "id": "8680e8ca",
   "metadata": {
    "scrolled": true
   },
   "outputs": [
    {
     "name": "stdout",
     "output_type": "stream",
     "text": [
      "취사병 전설이 되다 :: 네이버 웹툰\n",
      "157화 : 바뀐 사람들\n",
      "156화 : 군단장 vs 사령관\n",
      "155화 : 폐급과 폐급의 만남\n",
      "154화 : 호영이네 아빠의 위기\n",
      "153화 : 실력차이\n",
      "152화 : 한계돌파2\n",
      "151화 : 한계돌파\n",
      "150화 : 스펀지 같은 성재\n",
      "149화 : 빽이 센 윤호영\n",
      "148화 : 호영아, 그건 아니야\n"
     ]
    }
   ],
   "source": [
    "# HTML 제목\n",
    "print(soup.select_one('title').text)\n",
    "# 회차별 제목\n",
    "titles = soup.select('.title > a')\n",
    "for title in titles:\n",
    "    print(title.text)"
   ]
  },
  {
   "cell_type": "code",
   "execution_count": null,
   "id": "ee5d0bab",
   "metadata": {},
   "outputs": [],
   "source": [
    "#다른 페이지까지 한꺼번에 데려오고 싶을때 -- for 반복문 사용\n",
    "# 강사님 깃허브에서 데려와서 혼자 해보기"
   ]
  },
  {
   "cell_type": "code",
   "execution_count": null,
   "id": "06f61cde",
   "metadata": {},
   "outputs": [],
   "source": []
  },
  {
   "cell_type": "code",
   "execution_count": null,
   "id": "3f39d75d",
   "metadata": {},
   "outputs": [],
   "source": []
  },
  {
   "cell_type": "code",
   "execution_count": 102,
   "id": "1381d71f",
   "metadata": {},
   "outputs": [],
   "source": [
    "import requests\n",
    "res = requests.get('https://tiobe.com/tiobe-index/')\n",
    "res.encoding = None\n",
    "from bs4 import BeautifulSoup as bs\n",
    "soup = bs(res.text)"
   ]
  },
  {
   "cell_type": "code",
   "execution_count": 110,
   "id": "27e07735",
   "metadata": {
    "collapsed": true
   },
   "outputs": [
    {
     "name": "stdout",
     "output_type": "stream",
     "text": [
      "Python\n",
      "C\n",
      "Java\n",
      "C++\n",
      "C#\n",
      "Visual Basic\n",
      "JavaScript\n",
      "Assembly language\n",
      "SQL\n",
      "PHP\n",
      "R\n",
      "Delphi/Object Pascal\n",
      "Go\n",
      "Swift\n",
      "Ruby\n",
      "Classic Visual Basic\n",
      "Objective-C\n",
      "Perl\n",
      "Lua\n",
      "MATLAB\n"
     ]
    }
   ],
   "source": [
    "print('\\n'.join([ s.text for s in soup.select('.td-top20 + td')]))"
   ]
  },
  {
   "cell_type": "code",
   "execution_count": 111,
   "id": "a482183d",
   "metadata": {},
   "outputs": [],
   "source": [
    "import requests\n",
    "from bs4 import BeautifulSoup\n",
    "query = \"삼성전자\"\n",
    "url = f\"https://search.naver.com/search.naver?query={query}\"\n",
    "res = requests.get(url)\n",
    "soup = BeautifulSoup(res.text)"
   ]
  },
  {
   "cell_type": "code",
   "execution_count": 112,
   "id": "23979109",
   "metadata": {},
   "outputs": [
    {
     "data": {
      "text/plain": [
       "<Response [200]>"
      ]
     },
     "execution_count": 112,
     "metadata": {},
     "output_type": "execute_result"
    }
   ],
   "source": [
    "res"
   ]
  },
  {
   "cell_type": "code",
   "execution_count": 121,
   "id": "d50a9ea1",
   "metadata": {
    "collapsed": true
   },
   "outputs": [
    {
     "name": "stdout",
     "output_type": "stream",
     "text": [
      "삼성전자주가\n",
      "삼성전자 배당금\n",
      "삼성전자 배당금 지급일\n",
      "삼성전자 주식\n",
      "삼성전자 임금협상\n",
      "삼성전자 채용\n",
      "삼성전자 주가 전망\n",
      "삼성전자 연봉협상\n",
      "오늘 삼성전자 주가\n",
      "삼성 전자레인지\n"
     ]
    }
   ],
   "source": [
    "print('\\n'.join([ s.text for s in soup.select('li.item > a > div.tit')]))"
   ]
  },
  {
   "cell_type": "markdown",
   "id": "c6b5ca81",
   "metadata": {},
   "source": [
    "##행정안전부 보도자료"
   ]
  },
  {
   "cell_type": "code",
   "execution_count": 124,
   "id": "9ca9126b",
   "metadata": {},
   "outputs": [],
   "source": [
    "import requests\n",
    "from bs4 import BeautifulSoup\n",
    "url = \"https://mois.go.kr/frt/bbs/type010/commonSelectBoardList.do?bbsId=BBSMSTR_000000000008\"\n",
    "param = {'pageIndex' : 3}\n",
    "res = requests.post(url, params = param)\n",
    "soup = BeautifulSoup(res.text)"
   ]
  },
  {
   "cell_type": "code",
   "execution_count": 128,
   "id": "274f0f2c",
   "metadata": {
    "collapsed": true
   },
   "outputs": [
    {
     "name": "stdout",
     "output_type": "stream",
     "text": [
      "특수교육대상자 교육 여건, 데이터로 개선한다 \n",
      "가맹점 재등록 제한기간 도입으로 지역사랑상품권 부정유통 막는다 \n",
      "함께 발전하고 주민이 중심이 되는 지역 만들기에 앞장선다 \n",
      "국내 첫 특별지자체 ‘부울경특별연합’ 설치, 동북아 8대 메가시티 도약 \n",
      "「맘편한 임신」으로 임산부 지원 서비스 한 번에 신청하세요 \n",
      "17개 시·도 대상 2022년도 지방자치단체 합동평가 결과 공개 \n",
      "내 손으로 디지털정부서비스를 디자인한다 \n",
      "봄꽃향기 가득한 세종청사 옥상정원으로 오세요 \n",
      "행정안전부, 해빙기 취약시설 안전 점검으로 국민안전 확보 \n",
      "회전교차로 설치하니 사망자 63%, 교통사고 35.8% 줄어 \n"
     ]
    }
   ],
   "source": [
    "print('\\n'.join([ s.text for s in soup.select('div.wrap > a')]))"
   ]
  },
  {
   "cell_type": "code",
   "execution_count": null,
   "id": "18d7bedc",
   "metadata": {},
   "outputs": [],
   "source": [
    "#카카오"
   ]
  },
  {
   "cell_type": "code",
   "execution_count": 133,
   "id": "19d0c22b",
   "metadata": {},
   "outputs": [],
   "source": [
    "import requests\n",
    "url = 'https://dapi.kakao.com/v2/local/search/address.xml'\n",
    "param = { 'query': '제주 서귀포시 성산읍 성산리 1' }\n",
    "header = { 'Authorization': 'KakaoAK f33c0bdc28cf3a49a87aeb9f5e218e65' }\n",
    "\n",
    "requests.get(url, params = param, headers = header)\n",
    "from bs4 import BeautifulSoup as bs\n",
    "soup = bs(res.text)\n"
   ]
  },
  {
   "cell_type": "code",
   "execution_count": 134,
   "id": "419b8bdf",
   "metadata": {
    "collapsed": true
   },
   "outputs": [
    {
     "ename": "AttributeError",
     "evalue": "'NoneType' object has no attribute 'find'",
     "output_type": "error",
     "traceback": [
      "\u001b[1;31m---------------------------------------------------------------------------\u001b[0m",
      "\u001b[1;31mAttributeError\u001b[0m                            Traceback (most recent call last)",
      "\u001b[1;32m~\\AppData\\Local\\Temp/ipykernel_7592/2161797828.py\u001b[0m in \u001b[0;36m<module>\u001b[1;34m\u001b[0m\n\u001b[0;32m      1\u001b[0m \u001b[0mresult\u001b[0m \u001b[1;33m=\u001b[0m \u001b[0msoup\u001b[0m\u001b[1;33m.\u001b[0m\u001b[0mfind\u001b[0m\u001b[1;33m(\u001b[0m\u001b[1;34m'result'\u001b[0m\u001b[1;33m)\u001b[0m\u001b[1;33m\u001b[0m\u001b[1;33m\u001b[0m\u001b[0m\n\u001b[1;32m----> 2\u001b[1;33m \u001b[0mdocuments\u001b[0m \u001b[1;33m=\u001b[0m \u001b[0mresult\u001b[0m\u001b[1;33m.\u001b[0m\u001b[0mfind\u001b[0m\u001b[1;33m(\u001b[0m\u001b[1;34m'documents'\u001b[0m\u001b[1;33m)\u001b[0m\u001b[1;33m\u001b[0m\u001b[1;33m\u001b[0m\u001b[0m\n\u001b[0m\u001b[0;32m      3\u001b[0m \u001b[0maddress\u001b[0m \u001b[1;33m=\u001b[0m \u001b[0mdocuments\u001b[0m\u001b[1;33m.\u001b[0m\u001b[0mfind\u001b[0m\u001b[1;33m(\u001b[0m\u001b[1;34m'address'\u001b[0m\u001b[1;33m)\u001b[0m\u001b[1;33m\u001b[0m\u001b[1;33m\u001b[0m\u001b[0m\n\u001b[0;32m      4\u001b[0m \u001b[0mx\u001b[0m \u001b[1;33m=\u001b[0m \u001b[0maddress\u001b[0m\u001b[1;33m.\u001b[0m\u001b[0mfind\u001b[0m\u001b[1;33m(\u001b[0m\u001b[1;34m'x'\u001b[0m\u001b[1;33m)\u001b[0m \u001b[1;31m#경도\u001b[0m\u001b[1;33m\u001b[0m\u001b[1;33m\u001b[0m\u001b[0m\n\u001b[0;32m      5\u001b[0m \u001b[0my\u001b[0m \u001b[1;33m=\u001b[0m \u001b[0maddress\u001b[0m\u001b[1;33m.\u001b[0m\u001b[0mfind\u001b[0m\u001b[1;33m(\u001b[0m\u001b[1;34m'y'\u001b[0m\u001b[1;33m)\u001b[0m \u001b[1;31m#위도\u001b[0m\u001b[1;33m\u001b[0m\u001b[1;33m\u001b[0m\u001b[0m\n",
      "\u001b[1;31mAttributeError\u001b[0m: 'NoneType' object has no attribute 'find'"
     ]
    }
   ],
   "source": [
    "result = soup.find('result')\n",
    "documents = result.find('documents')\n",
    "address = documents.find('address')\n",
    "x = address.find('x') #경도\n",
    "y = address.find('y') #위도\n",
    "\n",
    "x.text, y.text                ###왜 오류떠"
   ]
  },
  {
   "cell_type": "code",
   "execution_count": null,
   "id": "d8a2b5fd",
   "metadata": {},
   "outputs": [],
   "source": [
    "#json"
   ]
  },
  {
   "cell_type": "code",
   "execution_count": 135,
   "id": "fd4fedef",
   "metadata": {
    "scrolled": true
   },
   "outputs": [
    {
     "name": "stdout",
     "output_type": "stream",
     "text": [
      "<class 'dict'>\n",
      "10\n",
      "GGoReb\n"
     ]
    }
   ],
   "source": [
    "import requests\n",
    "res = requests.get('http://ggoreb.com/python/json/data1.jsp')\n",
    "parse = res.json() # JSON → Dictionary\n",
    "print(type(parse))\n",
    "print(parse['age'])\n",
    "print(parse.get('name'))"
   ]
  },
  {
   "cell_type": "code",
   "execution_count": 138,
   "id": "ff99c377",
   "metadata": {
    "scrolled": true
   },
   "outputs": [
    {
     "name": "stdout",
     "output_type": "stream",
     "text": [
      "<class 'list'>\n",
      "{'age': 10, 'name': 'A'}\n"
     ]
    },
    {
     "ename": "AttributeError",
     "evalue": "'list' object has no attribute 'get'",
     "output_type": "error",
     "traceback": [
      "\u001b[1;31m---------------------------------------------------------------------------\u001b[0m",
      "\u001b[1;31mAttributeError\u001b[0m                            Traceback (most recent call last)",
      "\u001b[1;32m~\\AppData\\Local\\Temp/ipykernel_7592/3997848156.py\u001b[0m in \u001b[0;36m<module>\u001b[1;34m\u001b[0m\n\u001b[0;32m      4\u001b[0m \u001b[0mprint\u001b[0m\u001b[1;33m(\u001b[0m\u001b[0mtype\u001b[0m\u001b[1;33m(\u001b[0m\u001b[0mparse\u001b[0m\u001b[1;33m)\u001b[0m\u001b[1;33m)\u001b[0m\u001b[1;33m\u001b[0m\u001b[1;33m\u001b[0m\u001b[0m\n\u001b[0;32m      5\u001b[0m \u001b[0mprint\u001b[0m\u001b[1;33m(\u001b[0m\u001b[0mparse\u001b[0m\u001b[1;33m[\u001b[0m\u001b[1;36m0\u001b[0m\u001b[1;33m]\u001b[0m\u001b[1;33m)\u001b[0m\u001b[1;33m\u001b[0m\u001b[1;33m\u001b[0m\u001b[0m\n\u001b[1;32m----> 6\u001b[1;33m \u001b[0mprint\u001b[0m\u001b[1;33m(\u001b[0m\u001b[0mparse\u001b[0m\u001b[1;33m.\u001b[0m\u001b[0mget\u001b[0m\u001b[1;33m(\u001b[0m\u001b[1;36m2\u001b[0m\u001b[1;33m)\u001b[0m\u001b[1;33m)\u001b[0m\u001b[1;33m\u001b[0m\u001b[1;33m\u001b[0m\u001b[0m\n\u001b[0m",
      "\u001b[1;31mAttributeError\u001b[0m: 'list' object has no attribute 'get'"
     ]
    }
   ],
   "source": [
    "import requests\n",
    "res = requests.get('http://ggoreb.com/python/json/data2.jsp')\n",
    "parse = res.json() # JSON → 얘는 list\n",
    "print(type(parse))\n",
    "print(parse[0])\n",
    "print(parse.get(2))"
   ]
  },
  {
   "cell_type": "code",
   "execution_count": null,
   "id": "acba8a1a",
   "metadata": {},
   "outputs": [],
   "source": []
  },
  {
   "cell_type": "code",
   "execution_count": null,
   "id": "cd901975",
   "metadata": {},
   "outputs": [],
   "source": []
  },
  {
   "cell_type": "code",
   "execution_count": null,
   "id": "b85ae08a",
   "metadata": {},
   "outputs": [],
   "source": []
  },
  {
   "cell_type": "code",
   "execution_count": null,
   "id": "4bf545c9",
   "metadata": {},
   "outputs": [],
   "source": []
  },
  {
   "cell_type": "code",
   "execution_count": null,
   "id": "661bd505",
   "metadata": {},
   "outputs": [],
   "source": []
  }
 ],
 "metadata": {
  "kernelspec": {
   "display_name": "Python 3 (ipykernel)",
   "language": "python",
   "name": "python3"
  },
  "language_info": {
   "codemirror_mode": {
    "name": "ipython",
    "version": 3
   },
   "file_extension": ".py",
   "mimetype": "text/x-python",
   "name": "python",
   "nbconvert_exporter": "python",
   "pygments_lexer": "ipython3",
   "version": "3.9.7"
  }
 },
 "nbformat": 4,
 "nbformat_minor": 5
}
