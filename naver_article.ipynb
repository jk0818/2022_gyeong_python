{
 "cells": [
  {
   "cell_type": "markdown",
   "id": "7ae1d6f6",
   "metadata": {},
   "source": [
    "### 네이버 기사 수집\n",
    "- 기사 리스트 수집 > 상세페이지 URL 만들기 > 상세 페이지에서 기사 내용 수집"
   ]
  },
  {
   "cell_type": "code",
   "execution_count": 1,
   "id": "2c56fada",
   "metadata": {},
   "outputs": [],
   "source": [
    "import pandas as pd\n",
    "import requests\n",
    "import json\n",
    "from bs4 import BeautifulSoup"
   ]
  },
  {
   "cell_type": "markdown",
   "id": "167b7bac-9770-44a2-9154-8c6b552e10bb",
   "metadata": {},
   "source": [
    "#### 1. URL : 기사 리스트 수집"
   ]
  },
  {
   "cell_type": "code",
   "execution_count": 2,
   "id": "1bbe39ae",
   "metadata": {},
   "outputs": [
    {
     "data": {
      "text/plain": [
       "'https://news.naver.com/main/mainNews.naver?sid1=105&date=%2000:00:00&page=1'"
      ]
     },
     "execution_count": 2,
     "metadata": {},
     "output_type": "execute_result"
    }
   ],
   "source": [
    "sid1 = 105  # IT/과학 카테고리\n",
    "page = 1\n",
    "url = f\"https://news.naver.com/main/mainNews.naver?sid1={sid1}&date=%2000:00:00&page={page}\"\n",
    "url"
   ]
  },
  {
   "cell_type": "markdown",
   "id": "9a773c66-5725-4024-b354-35b2f5b7cf1c",
   "metadata": {},
   "source": [
    "#### 2. request > response : str(json)"
   ]
  },
  {
   "cell_type": "code",
   "execution_count": 3,
   "id": "4adac5b7",
   "metadata": {},
   "outputs": [
    {
     "data": {
      "text/plain": [
       "<Response [200]>"
      ]
     },
     "execution_count": 3,
     "metadata": {},
     "output_type": "execute_result"
    }
   ],
   "source": [
    "headers = {'user-agent': 'Mozilla/5.0 (Windows NT 10.0; Win64; x64)\\\n",
    "AppleWebKit/537.36 (KHTML, like Gecko) Chrome/98.0.4758.102 Safari/537.36'}\n",
    "res = requests.post(url, headers=headers)\n",
    "res"
   ]
  },
  {
   "cell_type": "markdown",
   "id": "a4befd23-4251-4afa-9b68-4a1d8fba7cee",
   "metadata": {},
   "source": [
    "#### 3. str(json) > str(json) > dict, list > df"
   ]
  },
  {
   "cell_type": "code",
   "execution_count": 4,
   "id": "ac5530a7-5d4d-43af-b59b-78d5c9b68a0c",
   "metadata": {
    "collapsed": true,
    "jupyter": {
     "outputs_hidden": true
    },
    "tags": []
   },
   "outputs": [
    {
     "data": {
      "text/plain": [
       "{'itemList': [],\n",
       " 'dateList': [],\n",
       " 'pagerInfo': {'type': 'default',\n",
       "  'totalRows': 1441,\n",
       "  'pageSize': 20,\n",
       "  'indexSize': 10,\n",
       "  'page': 1,\n",
       "  'requestURI': '/main/mainNews.naver',\n",
       "  'requestMethod': 'POST',\n",
       "  'queryString': 'sid1=105&date=%2000:00:00&page=1',\n",
       "  'startRownum': 1,\n",
       "  'endRownum': 20,\n",
       "  'firstPage': 1,\n",
       "  'lastPage': 10,\n",
       "  'prevPage': 0,\n",
       "  'totalPages': 73,\n",
       "  'nextPage': 2},\n",
       " 'currentDate': None,\n",
       " 'airsResult': '{\"success\":true,\"message\":\"OK\",\"resultCode\":200,\"result\":{\"105\":[{\"sectionId\":\"105\",\"gdid\":\"880000E7_000000000000000005203985\",\"articleId\":\"0005203985\",\"officeId\":\"018\",\"officeName\":\"이데일리\",\"title\":\"삼성폰, 애플 제치고 1분기 점유율 1위 ‘탈환’\",\"summary\":\"글로벌 스마트폰 출하량 추이. (자료=카운터포인트리서치) [이데일리 김정유 기자] 삼성전자(005930)가 올 1분기 애플을 제치고 글로벌 스마트폰 시장 점유율 1위를 탈환했다. 29일 시장조사업체 카운터포인트리서치\",\"serviceTime\":1651219081000,\"imageUrl\":\"https://mimgnews.pstatic.net/image/origin/018/2022/04/29/5203985.jpg\",\"type\":\"1\",\"sessionId\":\"eUA7TEvdYXajKGhg\",\"modelVersion\":\"news_sec_v2.0\",\"airsServiceType\":\"DEFAULT\"},{\"sectionId\":\"105\",\"gdid\":\"8800010E_000000000000000001984958\",\"articleId\":\"0001984958\",\"officeId\":\"016\",\"officeName\":\"헤럴드경제\",\"title\":\"“이것만 있으면 코로나 걱정없다?” 세계가 놀란 ‘물방울’ 한국 상용 임박\",\"summary\":\"[헤럴드경제=구본혁 기자] “이것만 있으면 지하철에서도 코로나 걱정없이 마스크를 벗을 수 있다?” 일본 기술보다 월등한 성능을 갖춘 대기 중 코로나 바이러스를 잡을 수 있는 마법의 물방울 생성 기술 상용화가 추진된다\",\"serviceTime\":1651218782000,\"imageUrl\":\"https://mimgnews.pstatic.net/image/origin/016/2022/04/29/1984958.jpg\",\"type\":\"1\",\"sessionId\":\"eUA7TEvdYXajKGhg\",\"modelVersion\":\"news_sec_v2.0\",\"airsServiceType\":\"DEFAULT\"},{\"sectionId\":\"105\",\"gdid\":\"8800011E_000000000000000002255437\",\"articleId\":\"0002255437\",\"officeId\":\"092\",\"officeName\":\"ZDNet Korea\",\"title\":\"침으로 검사하는 코로나19 자가키트 첫 허가\",\"summary\":\"타액으로 코로나19 감염 확인이 가능한 자가검사키트가 허가됐다. 식품의약품안전처는 국내 처음으로 개인이 직접 타액(침)을 검체로 사용해 바이러스 감염 여부를 확인하는 항원검사 방식의 코로나19 자가검사키트 1개 제품\",\"serviceTime\":1651218661000,\"imageUrl\":\"https://mimgnews.pstatic.net/image/origin/092/2022/04/29/2255437.jpg\",\"type\":\"1\",\"sessionId\":\"eUA7TEvdYXajKGhg\",\"modelVersion\":\"news_sec_v2.0\",\"airsServiceType\":\"DEFAULT\"},{\"sectionId\":\"105\",\"gdid\":\"08138263_000000000000000006062447\",\"articleId\":\"0006062447\",\"officeId\":\"421\",\"officeName\":\"뉴스1\",\"title\":\"위메이드vs넷마블vs블리자드…올해 상반기 \\'신작 대격돌\\' 벌어진다\",\"summary\":\"(서울=뉴스1) 김근욱 기자 = 올해 상반기 게임사 위메이드와 넷마블, 블리자드가 각사의 자존심을 건 야심작을 잇달아 출시하면서 게임업계에 \\'신작 대격돌\\'이 벌어질 전망이다. 먼저 위메이드는 자사의 대표작 \\'미르의 \",\"serviceTime\":1651218371000,\"imageUrl\":\"https://mimgnews.pstatic.net/image/origin/421/2022/04/29/6062447.jpg\",\"type\":\"1\",\"sessionId\":\"eUA7TEvdYXajKGhg\",\"modelVersion\":\"news_sec_v2.0\",\"airsServiceType\":\"DEFAULT\"},{\"sectionId\":\"105\",\"gdid\":\"880000FF_000000000000000004828657\",\"articleId\":\"0004828657\",\"officeId\":\"014\",\"officeName\":\"파이낸셜뉴스\",\"title\":\"NFT 해킹 주의보...오픈씨·BAYC 다 뚫렸다\",\"summary\":\"[파이낸셜뉴스] 대체불가능한토큰(Non-Fungible Tokens, NFT) 시장이 커지면서 해킹 위협이 급증하고 있다. 오픈씨(OpenSea), 지루한원숭이들의요트클럽(Bored Ape Yacht Club·BAY\",\"serviceTime\":1651217165000,\"imageUrl\":\"https://mimgnews.pstatic.net/image/origin/014/2022/04/29/4828657.jpg\",\"type\":\"1\",\"sessionId\":\"eUA7TEvdYXajKGhg\",\"modelVersion\":\"news_sec_v2.0\",\"airsServiceType\":\"DEFAULT\"},{\"sectionId\":\"105\",\"gdid\":\"88127058_000000000000000000810203\",\"articleId\":\"0000810203\",\"officeId\":\"366\",\"officeName\":\"조선비즈\",\"title\":\"삼성 반도체 훨훨 나는데…인텔, 1분기 매출 전년比 7% 뚝뚝\",\"summary\":\"삼성전자, 메모리 수요에 반도체 역대 최고 실적 인텔은 PC 수요 줄어들면서 1분기 실적 뒷걸음질 파운드리 앞세운 인텔에 美 정부 적극 지원 삼성전자 반도체 사업이 올해 1분기 견조한 메모리 수요에 힘입어 역대 최고\",\"serviceTime\":1651216921000,\"imageUrl\":\"https://mimgnews.pstatic.net/image/origin/366/2022/04/29/810203.jpg\",\"type\":\"1\",\"sessionId\":\"eUA7TEvdYXajKGhg\",\"modelVersion\":\"news_sec_v2.0\",\"airsServiceType\":\"DEFAULT\"},{\"sectionId\":\"105\",\"gdid\":\"88127058_000000000000000000810199\",\"articleId\":\"0000810199\",\"officeId\":\"366\",\"officeName\":\"조선비즈\",\"title\":\"“SK바이오, 믿기지 않는 연봉 인상률” 소식에…제약업계 술렁\",\"summary\":\"22일 연봉동의서 통지 후 서버 먹통 “40분 동안 2000번 이상 접속” 업계 “사상 최대 실적 비교해 연봉은 적게 오른 듯” 국내 대기업 연봉 협상이 한창인 29일 제약바이오업계에서는 SK바이오사이언스(30244\",\"serviceTime\":1651216324000,\"imageUrl\":\"https://mimgnews.pstatic.net/image/origin/366/2022/04/29/810199.jpg\",\"type\":\"1\",\"sessionId\":\"eUA7TEvdYXajKGhg\",\"modelVersion\":\"news_sec_v2.0\",\"airsServiceType\":\"DEFAULT\"},{\"sectionId\":\"105\",\"gdid\":\"8812A0A8_000000000000000002599466\",\"articleId\":\"0002599466\",\"officeId\":\"119\",\"officeName\":\"데일리안\",\"title\":\"[단독] 강신웅 티캐스트 대표 보직해임…매각 재추진 가시화\",\"summary\":\"[데일리안 = 김은경 기자] 태광그룹의 방송채널사용사업자(PP) 티캐스트의 강신웅 대표가 보직에서 해임됐다. 29일 관련업계에 따르면 태광그룹은 전날 강 대표와 이영국 상무, 김용호 미디어컨설팅본부장(상무)을 보직에\",\"serviceTime\":1651216022000,\"imageUrl\":\"https://mimgnews.pstatic.net/image/origin/119/2022/04/29/2599466.jpg\",\"type\":\"1\",\"sessionId\":\"eUA7TEvdYXajKGhg\",\"modelVersion\":\"news_sec_v2.0\",\"airsServiceType\":\"DEFAULT\"},{\"sectionId\":\"105\",\"gdid\":\"880003A5_000000000000000000038932\",\"articleId\":\"0000038932\",\"officeId\":\"293\",\"officeName\":\"블로터\",\"title\":\"[단독]\\'서버 오류\\' 해명한&#160;발란, \\'네고왕\\' 업데이트 이전 가격 인상\",\"summary\":\"국내 명품 커머스 업체 \\'발란\\'이 유튜브 방송 \\'네고왕\\' 방송과 관련한 할인 쿠폰을 적용하기 전 미리 상품 가격을 인상했다는 의혹이 제기된 가운데, 웹 및 애플리케이션 등 업데이트 과정에서 오류가 발생한 것이라고 해\",\"serviceTime\":1651215329000,\"imageUrl\":\"https://mimgnews.pstatic.net/image/origin/293/2022/04/29/38932.jpg\",\"type\":\"1\",\"sessionId\":\"eUA7TEvdYXajKGhg\",\"modelVersion\":\"news_sec_v2.0\",\"airsServiceType\":\"DEFAULT\"},{\"sectionId\":\"105\",\"gdid\":\"8800010E_000000000000000001984930\",\"articleId\":\"0001984930\",\"officeId\":\"016\",\"officeName\":\"헤럴드경제\",\"title\":\"“이게 엄청나네” 삼성 ‘반도체+휴대폰’ 합쳐도 아이폰만 못해!\",\"summary\":\"[헤럴드경제=박세정 기자] 애플의 질주가 이어지고 있다. 아이폰 ‘비수기’에도 불구하고 애플은 1분기 역대 최대 매출 기록을 갈아치웠다. 삼성전자의 스마트폰, 반도체 매출을 모두 합쳐도 아이폰 매출에 못 미친다. 애\",\"serviceTime\":1651215122000,\"imageUrl\":\"https://mimgnews.pstatic.net/image/origin/016/2022/04/29/1984930.jpg\",\"type\":\"1\",\"sessionId\":\"eUA7TEvdYXajKGhg\",\"modelVersion\":\"news_sec_v2.0\",\"airsServiceType\":\"DEFAULT\"},{\"sectionId\":\"105\",\"gdid\":\"880000AD_000000000000000002732069\",\"articleId\":\"0002732069\",\"officeId\":\"029\",\"officeName\":\"디지털타임스\",\"title\":\"후배사랑 실천한 `KAIST 전산학부 동문 17인`…크래프톤 재직자로 1억원 기부\",\"summary\":\"KAIST, 17명 전산학부 후배 위해 기부 행렬 학생회, 동아리, 학부 장학금 등 활용 예정 국내 게임기업인 크래프톤에 근무하고 있는 KAIST 동문 17명이 \\'기부 천사\\'에 이름을 올렸다. KAIST는 크래프톤에\",\"serviceTime\":1651214407000,\"imageUrl\":\"https://mimgnews.pstatic.net/image/origin/029/2022/04/29/2732069.jpg\",\"type\":\"1\",\"sessionId\":\"eUA7TEvdYXajKGhg\",\"modelVersion\":\"news_sec_v2.0\",\"airsServiceType\":\"DEFAULT\"},{\"sectionId\":\"105\",\"gdid\":\"88127058_000000000000000000810181\",\"articleId\":\"0000810181\",\"officeId\":\"366\",\"officeName\":\"조선비즈\",\"title\":\"삼성전자, 올해 임금 인상률 9% 확정…대졸 초임 5150만원\",\"summary\":\"삼성전자 노사가 2022년 평균 임금 인상률 9%에 최종 합의했다. 29일 전자 업계에 따르면 삼성전자 노사협의회는 이날 직원 공지문을 통해 2022년 전 사원의 평균 임금 인상률이 9%로 결정됐다고 밝혔다. 이는 \",\"serviceTime\":1651214226000,\"imageUrl\":\"https://mimgnews.pstatic.net/image/origin/366/2022/04/29/810181.jpg\",\"type\":\"1\",\"sessionId\":\"zHoqYbPV0SqZoWsk\",\"modelVersion\":\"news_sec_v2.0\",\"airsServiceType\":\"DEFAULT\"},{\"sectionId\":\"105\",\"gdid\":\"880000D1_000000000000000003269533\",\"articleId\":\"0003269533\",\"officeId\":\"081\",\"officeName\":\"서울신문\",\"title\":\"[아하! 우주] 선명한 이미지!…제임스웹 우주망원경, ‘완벽한 초점’ 맞췄다\",\"summary\":\"[서울신문 나우뉴스] 제임스웹 우주망원경이 마침내 거울 정렬작업을 완벽히 마무리하며 최상의 선명한 심우주 이미지를 잡아내는 데 성공했다. 미 항공우주국(NASA)은 28일(현지시간) 제임스웹 우주망원경이 탑재한 네 \",\"serviceTime\":1651213622000,\"imageUrl\":\"https://mimgnews.pstatic.net/image/origin/081/2022/04/29/3269533.jpg\",\"type\":\"1\",\"sessionId\":\"eUA7TEvdYXajKGhg\",\"modelVersion\":\"news_sec_v2.0\",\"airsServiceType\":\"DEFAULT\"},{\"sectionId\":\"105\",\"gdid\":\"8812805E_000000000000000000808663\",\"articleId\":\"0000808663\",\"officeId\":\"417\",\"officeName\":\"머니S\",\"title\":\"세계 스마트폰 시장, 1분기 7% 역성장… 코로나에 러-우크라 전쟁까지 \\'이중고\\'\",\"summary\":\"세계 스마트폰 시장이 올해 1분기(1~3월) 7% 역성장을 기록하며 힘든 시기를 보내고 있다. 신종 코로나바이러스 감염증(코로나19) 리스크가 여전한 가운데 러시아의 우크라이나 침공으로 원자잿값과 물류비 상승, 부품\",\"serviceTime\":1651212776000,\"imageUrl\":\"https://mimgnews.pstatic.net/image/origin/417/2022/04/29/808663.jpg\",\"type\":\"1\",\"sessionId\":\"eUA7TEvdYXajKGhg\",\"modelVersion\":\"news_sec_v2.0\",\"airsServiceType\":\"DEFAULT\"},{\"sectionId\":\"105\",\"gdid\":\"880000AC_000000000000000002123774\",\"articleId\":\"0002123774\",\"officeId\":\"138\",\"officeName\":\"디지털데일리\",\"title\":\"테슬라 폭락 주범 알고봤더니…일론 머스크,  440만주 매각해 39.9억 달러 마련\",\"summary\":\"테슬라의 일론 머스크 최고경영자(CEO)가 자신의 테슬라 보유지분 440만주를 매각해 39억9000만달러(한화 약 5조원)의 현금을 확보한 것으로 미국 증권업계의 분석 결과 나타났다고 28일(현지시간) 로이터통신 등\",\"serviceTime\":1651212301000,\"imageUrl\":\"https://mimgnews.pstatic.net/image/origin/138/2022/04/29/2123774.jpg\",\"type\":\"1\",\"sessionId\":\"eUA7TEvdYXajKGhg\",\"modelVersion\":\"news_sec_v2.0\",\"airsServiceType\":\"DEFAULT\"},{\"sectionId\":\"105\",\"gdid\":\"8800011E_000000000000000002255422\",\"articleId\":\"0002255422\",\"officeId\":\"092\",\"officeName\":\"ZDNet Korea\",\"title\":\"치약 짜듯 빠르고 반듯하게...3D 프린터로 집 짓는다\",\"summary\":\"X축(가로) 6m, Y축(세로) 5m, Z축(높이) 4m 짜리 대형 3D프린터가 황토 반죽을 치약 짜듯이 출력한다. 20시간을 쉬지 않고 움직여 무언가를 만든다. 누군가 들어가 따뜻하게 몸을 누울 이 곳의 크기는 가\",\"serviceTime\":1651212121000,\"imageUrl\":\"https://mimgnews.pstatic.net/image/origin/092/2022/04/29/2255422.jpg\",\"type\":\"1\",\"sessionId\":\"eUA7TEvdYXajKGhg\",\"modelVersion\":\"news_sec_v2.0\",\"airsServiceType\":\"DEFAULT\"},{\"sectionId\":\"105\",\"gdid\":\"88000127_000000000000000011154542\",\"articleId\":\"0011154542\",\"officeId\":\"003\",\"officeName\":\"뉴시스\",\"title\":\"삼성, 세계 스마트폰 점유율 1위 탈환…전체 시장은 7% 역성장\",\"summary\":\"기사내용 요약 삼성, 1분기 출하량 7400만대…점유율 23% 기록 애플은 5900만대로 2위…전 분기 대비 28% 감소 공급망 이슈 등으로 전체 시장 규모 전년比 7%↓ [서울=뉴시스]윤현성 기자 = 지난해 4분기\",\"serviceTime\":1651211375000,\"imageUrl\":\"https://mimgnews.pstatic.net/image/origin/003/2022/04/29/11154542.jpg\",\"type\":\"1\",\"sessionId\":\"eUA7TEvdYXajKGhg\",\"modelVersion\":\"news_sec_v2.0\",\"airsServiceType\":\"DEFAULT\"},{\"sectionId\":\"105\",\"gdid\":\"88156f75_000000000000000000672363\",\"articleId\":\"0000672363\",\"officeId\":\"469\",\"officeName\":\"한국일보\",\"title\":\"역대급 실적에도 웃지 못한 애플, 공급망 문제 대두되면서 주가는 급락\",\"summary\":\"글로벌 정보기술(IT) 업계 공룡인 애플이 올해 1분기에 인플레이션 악재 등에도 불구하고 \\'깜짝실적(어닝서프라이즈)\\'를 가져왔다. 주력인 아이폰과 온라인장터인 앱스토어 등에서 선전한 결과다. 하지만 신종 코로나바이러\",\"serviceTime\":1651210262000,\"imageUrl\":\"https://mimgnews.pstatic.net/image/origin/469/2022/04/29/672363.jpg\",\"type\":\"1\",\"sessionId\":\"eUA7TEvdYXajKGhg\",\"modelVersion\":\"news_sec_v2.0\",\"airsServiceType\":\"DEFAULT\"},{\"sectionId\":\"105\",\"gdid\":\"88156f75_000000000000000000672362\",\"articleId\":\"0000672362\",\"officeId\":\"469\",\"officeName\":\"한국일보\",\"title\":\"삼성전자 노사, 올해 임금인상률 9% 최종 합의…대졸 신입 초봉 5,150만원\",\"summary\":\"삼성전자 노사가 2022년 임직원 평균 임금인상률을 9%로 결정했다. 29일 업계에 따르면 삼성전자 노사협의회는 이날 오전 노사가 연내 사원의 평균 임금인상률을 9%로 합의했다는 내용을 임직원들에게 공지했다. 노사협\",\"serviceTime\":1651210261000,\"imageUrl\":\"https://mimgnews.pstatic.net/image/origin/469/2022/04/29/672362.jpg\",\"type\":\"1\",\"sessionId\":\"eUA7TEvdYXajKGhg\",\"modelVersion\":\"news_sec_v2.0\",\"airsServiceType\":\"DEFAULT\"},{\"sectionId\":\"105\",\"gdid\":\"88000108_000000000000000004048337\",\"articleId\":\"0004048337\",\"officeId\":\"011\",\"officeName\":\"서울경제\",\"title\":\"\\\\\"연봉 1000만원 인상\\\\\" 웹젠 노조, 2일 파업 보류\",\"summary\":\"[서울경제] 게임 업계 최초로 파업을 예고했던 웹젠(069080) 노동조합이 쟁의활동을 일단 보류하기로 했다. 29일 업계에 따르면 웹젠 노조는 다음달 2일 국회 문화체육관광위원회·환경노동위원회 공동 주최로 열리는 \",\"serviceTime\":1651210261000,\"imageUrl\":\"https://mimgnews.pstatic.net/image/origin/011/2022/04/29/4048337.jpg\",\"type\":\"1\",\"sessionId\":\"eUA7TEvdYXajKGhg\",\"modelVersion\":\"news_sec_v2.0\",\"airsServiceType\":\"DEFAULT\"}]},\"currentPage\":1,\"totalPage\":73,\"totalCount\":1441}'}"
      ]
     },
     "execution_count": 4,
     "metadata": {},
     "output_type": "execute_result"
    }
   ],
   "source": [
    "# str-all > json\n",
    "datas = res.json()\n",
    "datas"
   ]
  },
  {
   "cell_type": "code",
   "execution_count": 5,
   "id": "682585af-e08f-46eb-996a-34a6af9f3f4f",
   "metadata": {
    "collapsed": true,
    "jupyter": {
     "outputs_hidden": true
    },
    "tags": []
   },
   "outputs": [
    {
     "data": {
      "text/plain": [
       "'{\"success\":true,\"message\":\"OK\",\"resultCode\":200,\"result\":{\"105\":[{\"sectionId\":\"105\",\"gdid\":\"880000E7_000000000000000005203985\",\"articleId\":\"0005203985\",\"officeId\":\"018\",\"officeName\":\"이데일리\",\"title\":\"삼성폰, 애플 제치고 1분기 점유율 1위 ‘탈환’\",\"summary\":\"글로벌 스마트폰 출하량 추이. (자료=카운터포인트리서치) [이데일리 김정유 기자] 삼성전자(005930)가 올 1분기 애플을 제치고 글로벌 스마트폰 시장 점유율 1위를 탈환했다. 29일 시장조사업체 카운터포인트리서치\",\"serviceTime\":1651219081000,\"imageUrl\":\"https://mimgnews.pstatic.net/image/origin/018/2022/04/29/5203985.jpg\",\"type\":\"1\",\"sessionId\":\"eUA7TEvdYXajKGhg\",\"modelVersion\":\"news_sec_v2.0\",\"airsServiceType\":\"DEFAULT\"},{\"sectionId\":\"105\",\"gdid\":\"8800010E_000000000000000001984958\",\"articleId\":\"0001984958\",\"officeId\":\"016\",\"officeName\":\"헤럴드경제\",\"title\":\"“이것만 있으면 코로나 걱정없다?” 세계가 놀란 ‘물방울’ 한국 상용 임박\",\"summary\":\"[헤럴드경제=구본혁 기자] “이것만 있으면 지하철에서도 코로나 걱정없이 마스크를 벗을 수 있다?” 일본 기술보다 월등한 성능을 갖춘 대기 중 코로나 바이러스를 잡을 수 있는 마법의 물방울 생성 기술 상용화가 추진된다\",\"serviceTime\":1651218782000,\"imageUrl\":\"https://mimgnews.pstatic.net/image/origin/016/2022/04/29/1984958.jpg\",\"type\":\"1\",\"sessionId\":\"eUA7TEvdYXajKGhg\",\"modelVersion\":\"news_sec_v2.0\",\"airsServiceType\":\"DEFAULT\"},{\"sectionId\":\"105\",\"gdid\":\"8800011E_000000000000000002255437\",\"articleId\":\"0002255437\",\"officeId\":\"092\",\"officeName\":\"ZDNet Korea\",\"title\":\"침으로 검사하는 코로나19 자가키트 첫 허가\",\"summary\":\"타액으로 코로나19 감염 확인이 가능한 자가검사키트가 허가됐다. 식품의약품안전처는 국내 처음으로 개인이 직접 타액(침)을 검체로 사용해 바이러스 감염 여부를 확인하는 항원검사 방식의 코로나19 자가검사키트 1개 제품\",\"serviceTime\":1651218661000,\"imageUrl\":\"https://mimgnews.pstatic.net/image/origin/092/2022/04/29/2255437.jpg\",\"type\":\"1\",\"sessionId\":\"eUA7TEvdYXajKGhg\",\"modelVersion\":\"news_sec_v2.0\",\"airsServiceType\":\"DEFAULT\"},{\"sectionId\":\"105\",\"gdid\":\"08138263_000000000000000006062447\",\"articleId\":\"0006062447\",\"officeId\":\"421\",\"officeName\":\"뉴스1\",\"title\":\"위메이드vs넷마블vs블리자드…올해 상반기 \\'신작 대격돌\\' 벌어진다\",\"summary\":\"(서울=뉴스1) 김근욱 기자 = 올해 상반기 게임사 위메이드와 넷마블, 블리자드가 각사의 자존심을 건 야심작을 잇달아 출시하면서 게임업계에 \\'신작 대격돌\\'이 벌어질 전망이다. 먼저 위메이드는 자사의 대표작 \\'미르의 \",\"serviceTime\":1651218371000,\"imageUrl\":\"https://mimgnews.pstatic.net/image/origin/421/2022/04/29/6062447.jpg\",\"type\":\"1\",\"sessionId\":\"eUA7TEvdYXajKGhg\",\"modelVersion\":\"news_sec_v2.0\",\"airsServiceType\":\"DEFAULT\"},{\"sectionId\":\"105\",\"gdid\":\"880000FF_000000000000000004828657\",\"articleId\":\"0004828657\",\"officeId\":\"014\",\"officeName\":\"파이낸셜뉴스\",\"title\":\"NFT 해킹 주의보...오픈씨·BAYC 다 뚫렸다\",\"summary\":\"[파이낸셜뉴스] 대체불가능한토큰(Non-Fungible Tokens, NFT) 시장이 커지면서 해킹 위협이 급증하고 있다. 오픈씨(OpenSea), 지루한원숭이들의요트클럽(Bored Ape Yacht Club·BAY\",\"serviceTime\":1651217165000,\"imageUrl\":\"https://mimgnews.pstatic.net/image/origin/014/2022/04/29/4828657.jpg\",\"type\":\"1\",\"sessionId\":\"eUA7TEvdYXajKGhg\",\"modelVersion\":\"news_sec_v2.0\",\"airsServiceType\":\"DEFAULT\"},{\"sectionId\":\"105\",\"gdid\":\"88127058_000000000000000000810203\",\"articleId\":\"0000810203\",\"officeId\":\"366\",\"officeName\":\"조선비즈\",\"title\":\"삼성 반도체 훨훨 나는데…인텔, 1분기 매출 전년比 7% 뚝뚝\",\"summary\":\"삼성전자, 메모리 수요에 반도체 역대 최고 실적 인텔은 PC 수요 줄어들면서 1분기 실적 뒷걸음질 파운드리 앞세운 인텔에 美 정부 적극 지원 삼성전자 반도체 사업이 올해 1분기 견조한 메모리 수요에 힘입어 역대 최고\",\"serviceTime\":1651216921000,\"imageUrl\":\"https://mimgnews.pstatic.net/image/origin/366/2022/04/29/810203.jpg\",\"type\":\"1\",\"sessionId\":\"eUA7TEvdYXajKGhg\",\"modelVersion\":\"news_sec_v2.0\",\"airsServiceType\":\"DEFAULT\"},{\"sectionId\":\"105\",\"gdid\":\"88127058_000000000000000000810199\",\"articleId\":\"0000810199\",\"officeId\":\"366\",\"officeName\":\"조선비즈\",\"title\":\"“SK바이오, 믿기지 않는 연봉 인상률” 소식에…제약업계 술렁\",\"summary\":\"22일 연봉동의서 통지 후 서버 먹통 “40분 동안 2000번 이상 접속” 업계 “사상 최대 실적 비교해 연봉은 적게 오른 듯” 국내 대기업 연봉 협상이 한창인 29일 제약바이오업계에서는 SK바이오사이언스(30244\",\"serviceTime\":1651216324000,\"imageUrl\":\"https://mimgnews.pstatic.net/image/origin/366/2022/04/29/810199.jpg\",\"type\":\"1\",\"sessionId\":\"eUA7TEvdYXajKGhg\",\"modelVersion\":\"news_sec_v2.0\",\"airsServiceType\":\"DEFAULT\"},{\"sectionId\":\"105\",\"gdid\":\"8812A0A8_000000000000000002599466\",\"articleId\":\"0002599466\",\"officeId\":\"119\",\"officeName\":\"데일리안\",\"title\":\"[단독] 강신웅 티캐스트 대표 보직해임…매각 재추진 가시화\",\"summary\":\"[데일리안 = 김은경 기자] 태광그룹의 방송채널사용사업자(PP) 티캐스트의 강신웅 대표가 보직에서 해임됐다. 29일 관련업계에 따르면 태광그룹은 전날 강 대표와 이영국 상무, 김용호 미디어컨설팅본부장(상무)을 보직에\",\"serviceTime\":1651216022000,\"imageUrl\":\"https://mimgnews.pstatic.net/image/origin/119/2022/04/29/2599466.jpg\",\"type\":\"1\",\"sessionId\":\"eUA7TEvdYXajKGhg\",\"modelVersion\":\"news_sec_v2.0\",\"airsServiceType\":\"DEFAULT\"},{\"sectionId\":\"105\",\"gdid\":\"880003A5_000000000000000000038932\",\"articleId\":\"0000038932\",\"officeId\":\"293\",\"officeName\":\"블로터\",\"title\":\"[단독]\\'서버 오류\\' 해명한&#160;발란, \\'네고왕\\' 업데이트 이전 가격 인상\",\"summary\":\"국내 명품 커머스 업체 \\'발란\\'이 유튜브 방송 \\'네고왕\\' 방송과 관련한 할인 쿠폰을 적용하기 전 미리 상품 가격을 인상했다는 의혹이 제기된 가운데, 웹 및 애플리케이션 등 업데이트 과정에서 오류가 발생한 것이라고 해\",\"serviceTime\":1651215329000,\"imageUrl\":\"https://mimgnews.pstatic.net/image/origin/293/2022/04/29/38932.jpg\",\"type\":\"1\",\"sessionId\":\"eUA7TEvdYXajKGhg\",\"modelVersion\":\"news_sec_v2.0\",\"airsServiceType\":\"DEFAULT\"},{\"sectionId\":\"105\",\"gdid\":\"8800010E_000000000000000001984930\",\"articleId\":\"0001984930\",\"officeId\":\"016\",\"officeName\":\"헤럴드경제\",\"title\":\"“이게 엄청나네” 삼성 ‘반도체+휴대폰’ 합쳐도 아이폰만 못해!\",\"summary\":\"[헤럴드경제=박세정 기자] 애플의 질주가 이어지고 있다. 아이폰 ‘비수기’에도 불구하고 애플은 1분기 역대 최대 매출 기록을 갈아치웠다. 삼성전자의 스마트폰, 반도체 매출을 모두 합쳐도 아이폰 매출에 못 미친다. 애\",\"serviceTime\":1651215122000,\"imageUrl\":\"https://mimgnews.pstatic.net/image/origin/016/2022/04/29/1984930.jpg\",\"type\":\"1\",\"sessionId\":\"eUA7TEvdYXajKGhg\",\"modelVersion\":\"news_sec_v2.0\",\"airsServiceType\":\"DEFAULT\"},{\"sectionId\":\"105\",\"gdid\":\"880000AD_000000000000000002732069\",\"articleId\":\"0002732069\",\"officeId\":\"029\",\"officeName\":\"디지털타임스\",\"title\":\"후배사랑 실천한 `KAIST 전산학부 동문 17인`…크래프톤 재직자로 1억원 기부\",\"summary\":\"KAIST, 17명 전산학부 후배 위해 기부 행렬 학생회, 동아리, 학부 장학금 등 활용 예정 국내 게임기업인 크래프톤에 근무하고 있는 KAIST 동문 17명이 \\'기부 천사\\'에 이름을 올렸다. KAIST는 크래프톤에\",\"serviceTime\":1651214407000,\"imageUrl\":\"https://mimgnews.pstatic.net/image/origin/029/2022/04/29/2732069.jpg\",\"type\":\"1\",\"sessionId\":\"eUA7TEvdYXajKGhg\",\"modelVersion\":\"news_sec_v2.0\",\"airsServiceType\":\"DEFAULT\"},{\"sectionId\":\"105\",\"gdid\":\"88127058_000000000000000000810181\",\"articleId\":\"0000810181\",\"officeId\":\"366\",\"officeName\":\"조선비즈\",\"title\":\"삼성전자, 올해 임금 인상률 9% 확정…대졸 초임 5150만원\",\"summary\":\"삼성전자 노사가 2022년 평균 임금 인상률 9%에 최종 합의했다. 29일 전자 업계에 따르면 삼성전자 노사협의회는 이날 직원 공지문을 통해 2022년 전 사원의 평균 임금 인상률이 9%로 결정됐다고 밝혔다. 이는 \",\"serviceTime\":1651214226000,\"imageUrl\":\"https://mimgnews.pstatic.net/image/origin/366/2022/04/29/810181.jpg\",\"type\":\"1\",\"sessionId\":\"zHoqYbPV0SqZoWsk\",\"modelVersion\":\"news_sec_v2.0\",\"airsServiceType\":\"DEFAULT\"},{\"sectionId\":\"105\",\"gdid\":\"880000D1_000000000000000003269533\",\"articleId\":\"0003269533\",\"officeId\":\"081\",\"officeName\":\"서울신문\",\"title\":\"[아하! 우주] 선명한 이미지!…제임스웹 우주망원경, ‘완벽한 초점’ 맞췄다\",\"summary\":\"[서울신문 나우뉴스] 제임스웹 우주망원경이 마침내 거울 정렬작업을 완벽히 마무리하며 최상의 선명한 심우주 이미지를 잡아내는 데 성공했다. 미 항공우주국(NASA)은 28일(현지시간) 제임스웹 우주망원경이 탑재한 네 \",\"serviceTime\":1651213622000,\"imageUrl\":\"https://mimgnews.pstatic.net/image/origin/081/2022/04/29/3269533.jpg\",\"type\":\"1\",\"sessionId\":\"eUA7TEvdYXajKGhg\",\"modelVersion\":\"news_sec_v2.0\",\"airsServiceType\":\"DEFAULT\"},{\"sectionId\":\"105\",\"gdid\":\"8812805E_000000000000000000808663\",\"articleId\":\"0000808663\",\"officeId\":\"417\",\"officeName\":\"머니S\",\"title\":\"세계 스마트폰 시장, 1분기 7% 역성장… 코로나에 러-우크라 전쟁까지 \\'이중고\\'\",\"summary\":\"세계 스마트폰 시장이 올해 1분기(1~3월) 7% 역성장을 기록하며 힘든 시기를 보내고 있다. 신종 코로나바이러스 감염증(코로나19) 리스크가 여전한 가운데 러시아의 우크라이나 침공으로 원자잿값과 물류비 상승, 부품\",\"serviceTime\":1651212776000,\"imageUrl\":\"https://mimgnews.pstatic.net/image/origin/417/2022/04/29/808663.jpg\",\"type\":\"1\",\"sessionId\":\"eUA7TEvdYXajKGhg\",\"modelVersion\":\"news_sec_v2.0\",\"airsServiceType\":\"DEFAULT\"},{\"sectionId\":\"105\",\"gdid\":\"880000AC_000000000000000002123774\",\"articleId\":\"0002123774\",\"officeId\":\"138\",\"officeName\":\"디지털데일리\",\"title\":\"테슬라 폭락 주범 알고봤더니…일론 머스크,  440만주 매각해 39.9억 달러 마련\",\"summary\":\"테슬라의 일론 머스크 최고경영자(CEO)가 자신의 테슬라 보유지분 440만주를 매각해 39억9000만달러(한화 약 5조원)의 현금을 확보한 것으로 미국 증권업계의 분석 결과 나타났다고 28일(현지시간) 로이터통신 등\",\"serviceTime\":1651212301000,\"imageUrl\":\"https://mimgnews.pstatic.net/image/origin/138/2022/04/29/2123774.jpg\",\"type\":\"1\",\"sessionId\":\"eUA7TEvdYXajKGhg\",\"modelVersion\":\"news_sec_v2.0\",\"airsServiceType\":\"DEFAULT\"},{\"sectionId\":\"105\",\"gdid\":\"8800011E_000000000000000002255422\",\"articleId\":\"0002255422\",\"officeId\":\"092\",\"officeName\":\"ZDNet Korea\",\"title\":\"치약 짜듯 빠르고 반듯하게...3D 프린터로 집 짓는다\",\"summary\":\"X축(가로) 6m, Y축(세로) 5m, Z축(높이) 4m 짜리 대형 3D프린터가 황토 반죽을 치약 짜듯이 출력한다. 20시간을 쉬지 않고 움직여 무언가를 만든다. 누군가 들어가 따뜻하게 몸을 누울 이 곳의 크기는 가\",\"serviceTime\":1651212121000,\"imageUrl\":\"https://mimgnews.pstatic.net/image/origin/092/2022/04/29/2255422.jpg\",\"type\":\"1\",\"sessionId\":\"eUA7TEvdYXajKGhg\",\"modelVersion\":\"news_sec_v2.0\",\"airsServiceType\":\"DEFAULT\"},{\"sectionId\":\"105\",\"gdid\":\"88000127_000000000000000011154542\",\"articleId\":\"0011154542\",\"officeId\":\"003\",\"officeName\":\"뉴시스\",\"title\":\"삼성, 세계 스마트폰 점유율 1위 탈환…전체 시장은 7% 역성장\",\"summary\":\"기사내용 요약 삼성, 1분기 출하량 7400만대…점유율 23% 기록 애플은 5900만대로 2위…전 분기 대비 28% 감소 공급망 이슈 등으로 전체 시장 규모 전년比 7%↓ [서울=뉴시스]윤현성 기자 = 지난해 4분기\",\"serviceTime\":1651211375000,\"imageUrl\":\"https://mimgnews.pstatic.net/image/origin/003/2022/04/29/11154542.jpg\",\"type\":\"1\",\"sessionId\":\"eUA7TEvdYXajKGhg\",\"modelVersion\":\"news_sec_v2.0\",\"airsServiceType\":\"DEFAULT\"},{\"sectionId\":\"105\",\"gdid\":\"88156f75_000000000000000000672363\",\"articleId\":\"0000672363\",\"officeId\":\"469\",\"officeName\":\"한국일보\",\"title\":\"역대급 실적에도 웃지 못한 애플, 공급망 문제 대두되면서 주가는 급락\",\"summary\":\"글로벌 정보기술(IT) 업계 공룡인 애플이 올해 1분기에 인플레이션 악재 등에도 불구하고 \\'깜짝실적(어닝서프라이즈)\\'를 가져왔다. 주력인 아이폰과 온라인장터인 앱스토어 등에서 선전한 결과다. 하지만 신종 코로나바이러\",\"serviceTime\":1651210262000,\"imageUrl\":\"https://mimgnews.pstatic.net/image/origin/469/2022/04/29/672363.jpg\",\"type\":\"1\",\"sessionId\":\"eUA7TEvdYXajKGhg\",\"modelVersion\":\"news_sec_v2.0\",\"airsServiceType\":\"DEFAULT\"},{\"sectionId\":\"105\",\"gdid\":\"88156f75_000000000000000000672362\",\"articleId\":\"0000672362\",\"officeId\":\"469\",\"officeName\":\"한국일보\",\"title\":\"삼성전자 노사, 올해 임금인상률 9% 최종 합의…대졸 신입 초봉 5,150만원\",\"summary\":\"삼성전자 노사가 2022년 임직원 평균 임금인상률을 9%로 결정했다. 29일 업계에 따르면 삼성전자 노사협의회는 이날 오전 노사가 연내 사원의 평균 임금인상률을 9%로 합의했다는 내용을 임직원들에게 공지했다. 노사협\",\"serviceTime\":1651210261000,\"imageUrl\":\"https://mimgnews.pstatic.net/image/origin/469/2022/04/29/672362.jpg\",\"type\":\"1\",\"sessionId\":\"eUA7TEvdYXajKGhg\",\"modelVersion\":\"news_sec_v2.0\",\"airsServiceType\":\"DEFAULT\"},{\"sectionId\":\"105\",\"gdid\":\"88000108_000000000000000004048337\",\"articleId\":\"0004048337\",\"officeId\":\"011\",\"officeName\":\"서울경제\",\"title\":\"\\\\\"연봉 1000만원 인상\\\\\" 웹젠 노조, 2일 파업 보류\",\"summary\":\"[서울경제] 게임 업계 최초로 파업을 예고했던 웹젠(069080) 노동조합이 쟁의활동을 일단 보류하기로 했다. 29일 업계에 따르면 웹젠 노조는 다음달 2일 국회 문화체육관광위원회·환경노동위원회 공동 주최로 열리는 \",\"serviceTime\":1651210261000,\"imageUrl\":\"https://mimgnews.pstatic.net/image/origin/011/2022/04/29/4048337.jpg\",\"type\":\"1\",\"sessionId\":\"eUA7TEvdYXajKGhg\",\"modelVersion\":\"news_sec_v2.0\",\"airsServiceType\":\"DEFAULT\"}]},\"currentPage\":1,\"totalPage\":73,\"totalCount\":1441}'"
      ]
     },
     "execution_count": 5,
     "metadata": {},
     "output_type": "execute_result"
    }
   ],
   "source": [
    "# str-airsResult > json\n",
    "datas = res.json()[\"airsResult\"]\n",
    "datas"
   ]
  },
  {
   "cell_type": "code",
   "execution_count": 6,
   "id": "2c17913f-474e-4c35-9f14-08a4654beb7c",
   "metadata": {
    "collapsed": true,
    "jupyter": {
     "outputs_hidden": true
    },
    "tags": []
   },
   "outputs": [
    {
     "data": {
      "text/plain": [
       "{'105': [{'sectionId': '105',\n",
       "   'gdid': '880000E7_000000000000000005203985',\n",
       "   'articleId': '0005203985',\n",
       "   'officeId': '018',\n",
       "   'officeName': '이데일리',\n",
       "   'title': '삼성폰, 애플 제치고 1분기 점유율 1위 ‘탈환’',\n",
       "   'summary': '글로벌 스마트폰 출하량 추이. (자료=카운터포인트리서치) [이데일리 김정유 기자] 삼성전자(005930)가 올 1분기 애플을 제치고 글로벌 스마트폰 시장 점유율 1위를 탈환했다. 29일 시장조사업체 카운터포인트리서치',\n",
       "   'serviceTime': 1651219081000,\n",
       "   'imageUrl': 'https://mimgnews.pstatic.net/image/origin/018/2022/04/29/5203985.jpg',\n",
       "   'type': '1',\n",
       "   'sessionId': 'eUA7TEvdYXajKGhg',\n",
       "   'modelVersion': 'news_sec_v2.0',\n",
       "   'airsServiceType': 'DEFAULT'},\n",
       "  {'sectionId': '105',\n",
       "   'gdid': '8800010E_000000000000000001984958',\n",
       "   'articleId': '0001984958',\n",
       "   'officeId': '016',\n",
       "   'officeName': '헤럴드경제',\n",
       "   'title': '“이것만 있으면 코로나 걱정없다?” 세계가 놀란 ‘물방울’ 한국 상용 임박',\n",
       "   'summary': '[헤럴드경제=구본혁 기자] “이것만 있으면 지하철에서도 코로나 걱정없이 마스크를 벗을 수 있다?” 일본 기술보다 월등한 성능을 갖춘 대기 중 코로나 바이러스를 잡을 수 있는 마법의 물방울 생성 기술 상용화가 추진된다',\n",
       "   'serviceTime': 1651218782000,\n",
       "   'imageUrl': 'https://mimgnews.pstatic.net/image/origin/016/2022/04/29/1984958.jpg',\n",
       "   'type': '1',\n",
       "   'sessionId': 'eUA7TEvdYXajKGhg',\n",
       "   'modelVersion': 'news_sec_v2.0',\n",
       "   'airsServiceType': 'DEFAULT'},\n",
       "  {'sectionId': '105',\n",
       "   'gdid': '8800011E_000000000000000002255437',\n",
       "   'articleId': '0002255437',\n",
       "   'officeId': '092',\n",
       "   'officeName': 'ZDNet Korea',\n",
       "   'title': '침으로 검사하는 코로나19 자가키트 첫 허가',\n",
       "   'summary': '타액으로 코로나19 감염 확인이 가능한 자가검사키트가 허가됐다. 식품의약품안전처는 국내 처음으로 개인이 직접 타액(침)을 검체로 사용해 바이러스 감염 여부를 확인하는 항원검사 방식의 코로나19 자가검사키트 1개 제품',\n",
       "   'serviceTime': 1651218661000,\n",
       "   'imageUrl': 'https://mimgnews.pstatic.net/image/origin/092/2022/04/29/2255437.jpg',\n",
       "   'type': '1',\n",
       "   'sessionId': 'eUA7TEvdYXajKGhg',\n",
       "   'modelVersion': 'news_sec_v2.0',\n",
       "   'airsServiceType': 'DEFAULT'},\n",
       "  {'sectionId': '105',\n",
       "   'gdid': '08138263_000000000000000006062447',\n",
       "   'articleId': '0006062447',\n",
       "   'officeId': '421',\n",
       "   'officeName': '뉴스1',\n",
       "   'title': \"위메이드vs넷마블vs블리자드…올해 상반기 '신작 대격돌' 벌어진다\",\n",
       "   'summary': \"(서울=뉴스1) 김근욱 기자 = 올해 상반기 게임사 위메이드와 넷마블, 블리자드가 각사의 자존심을 건 야심작을 잇달아 출시하면서 게임업계에 '신작 대격돌'이 벌어질 전망이다. 먼저 위메이드는 자사의 대표작 '미르의 \",\n",
       "   'serviceTime': 1651218371000,\n",
       "   'imageUrl': 'https://mimgnews.pstatic.net/image/origin/421/2022/04/29/6062447.jpg',\n",
       "   'type': '1',\n",
       "   'sessionId': 'eUA7TEvdYXajKGhg',\n",
       "   'modelVersion': 'news_sec_v2.0',\n",
       "   'airsServiceType': 'DEFAULT'},\n",
       "  {'sectionId': '105',\n",
       "   'gdid': '880000FF_000000000000000004828657',\n",
       "   'articleId': '0004828657',\n",
       "   'officeId': '014',\n",
       "   'officeName': '파이낸셜뉴스',\n",
       "   'title': 'NFT 해킹 주의보...오픈씨·BAYC 다 뚫렸다',\n",
       "   'summary': '[파이낸셜뉴스] 대체불가능한토큰(Non-Fungible Tokens, NFT) 시장이 커지면서 해킹 위협이 급증하고 있다. 오픈씨(OpenSea), 지루한원숭이들의요트클럽(Bored Ape Yacht Club·BAY',\n",
       "   'serviceTime': 1651217165000,\n",
       "   'imageUrl': 'https://mimgnews.pstatic.net/image/origin/014/2022/04/29/4828657.jpg',\n",
       "   'type': '1',\n",
       "   'sessionId': 'eUA7TEvdYXajKGhg',\n",
       "   'modelVersion': 'news_sec_v2.0',\n",
       "   'airsServiceType': 'DEFAULT'},\n",
       "  {'sectionId': '105',\n",
       "   'gdid': '88127058_000000000000000000810203',\n",
       "   'articleId': '0000810203',\n",
       "   'officeId': '366',\n",
       "   'officeName': '조선비즈',\n",
       "   'title': '삼성 반도체 훨훨 나는데…인텔, 1분기 매출 전년比 7% 뚝뚝',\n",
       "   'summary': '삼성전자, 메모리 수요에 반도체 역대 최고 실적 인텔은 PC 수요 줄어들면서 1분기 실적 뒷걸음질 파운드리 앞세운 인텔에 美 정부 적극 지원 삼성전자 반도체 사업이 올해 1분기 견조한 메모리 수요에 힘입어 역대 최고',\n",
       "   'serviceTime': 1651216921000,\n",
       "   'imageUrl': 'https://mimgnews.pstatic.net/image/origin/366/2022/04/29/810203.jpg',\n",
       "   'type': '1',\n",
       "   'sessionId': 'eUA7TEvdYXajKGhg',\n",
       "   'modelVersion': 'news_sec_v2.0',\n",
       "   'airsServiceType': 'DEFAULT'},\n",
       "  {'sectionId': '105',\n",
       "   'gdid': '88127058_000000000000000000810199',\n",
       "   'articleId': '0000810199',\n",
       "   'officeId': '366',\n",
       "   'officeName': '조선비즈',\n",
       "   'title': '“SK바이오, 믿기지 않는 연봉 인상률” 소식에…제약업계 술렁',\n",
       "   'summary': '22일 연봉동의서 통지 후 서버 먹통 “40분 동안 2000번 이상 접속” 업계 “사상 최대 실적 비교해 연봉은 적게 오른 듯” 국내 대기업 연봉 협상이 한창인 29일 제약바이오업계에서는 SK바이오사이언스(30244',\n",
       "   'serviceTime': 1651216324000,\n",
       "   'imageUrl': 'https://mimgnews.pstatic.net/image/origin/366/2022/04/29/810199.jpg',\n",
       "   'type': '1',\n",
       "   'sessionId': 'eUA7TEvdYXajKGhg',\n",
       "   'modelVersion': 'news_sec_v2.0',\n",
       "   'airsServiceType': 'DEFAULT'},\n",
       "  {'sectionId': '105',\n",
       "   'gdid': '8812A0A8_000000000000000002599466',\n",
       "   'articleId': '0002599466',\n",
       "   'officeId': '119',\n",
       "   'officeName': '데일리안',\n",
       "   'title': '[단독] 강신웅 티캐스트 대표 보직해임…매각 재추진 가시화',\n",
       "   'summary': '[데일리안 = 김은경 기자] 태광그룹의 방송채널사용사업자(PP) 티캐스트의 강신웅 대표가 보직에서 해임됐다. 29일 관련업계에 따르면 태광그룹은 전날 강 대표와 이영국 상무, 김용호 미디어컨설팅본부장(상무)을 보직에',\n",
       "   'serviceTime': 1651216022000,\n",
       "   'imageUrl': 'https://mimgnews.pstatic.net/image/origin/119/2022/04/29/2599466.jpg',\n",
       "   'type': '1',\n",
       "   'sessionId': 'eUA7TEvdYXajKGhg',\n",
       "   'modelVersion': 'news_sec_v2.0',\n",
       "   'airsServiceType': 'DEFAULT'},\n",
       "  {'sectionId': '105',\n",
       "   'gdid': '880003A5_000000000000000000038932',\n",
       "   'articleId': '0000038932',\n",
       "   'officeId': '293',\n",
       "   'officeName': '블로터',\n",
       "   'title': \"[단독]'서버 오류' 해명한&#160;발란, '네고왕' 업데이트 이전 가격 인상\",\n",
       "   'summary': \"국내 명품 커머스 업체 '발란'이 유튜브 방송 '네고왕' 방송과 관련한 할인 쿠폰을 적용하기 전 미리 상품 가격을 인상했다는 의혹이 제기된 가운데, 웹 및 애플리케이션 등 업데이트 과정에서 오류가 발생한 것이라고 해\",\n",
       "   'serviceTime': 1651215329000,\n",
       "   'imageUrl': 'https://mimgnews.pstatic.net/image/origin/293/2022/04/29/38932.jpg',\n",
       "   'type': '1',\n",
       "   'sessionId': 'eUA7TEvdYXajKGhg',\n",
       "   'modelVersion': 'news_sec_v2.0',\n",
       "   'airsServiceType': 'DEFAULT'},\n",
       "  {'sectionId': '105',\n",
       "   'gdid': '8800010E_000000000000000001984930',\n",
       "   'articleId': '0001984930',\n",
       "   'officeId': '016',\n",
       "   'officeName': '헤럴드경제',\n",
       "   'title': '“이게 엄청나네” 삼성 ‘반도체+휴대폰’ 합쳐도 아이폰만 못해!',\n",
       "   'summary': '[헤럴드경제=박세정 기자] 애플의 질주가 이어지고 있다. 아이폰 ‘비수기’에도 불구하고 애플은 1분기 역대 최대 매출 기록을 갈아치웠다. 삼성전자의 스마트폰, 반도체 매출을 모두 합쳐도 아이폰 매출에 못 미친다. 애',\n",
       "   'serviceTime': 1651215122000,\n",
       "   'imageUrl': 'https://mimgnews.pstatic.net/image/origin/016/2022/04/29/1984930.jpg',\n",
       "   'type': '1',\n",
       "   'sessionId': 'eUA7TEvdYXajKGhg',\n",
       "   'modelVersion': 'news_sec_v2.0',\n",
       "   'airsServiceType': 'DEFAULT'},\n",
       "  {'sectionId': '105',\n",
       "   'gdid': '880000AD_000000000000000002732069',\n",
       "   'articleId': '0002732069',\n",
       "   'officeId': '029',\n",
       "   'officeName': '디지털타임스',\n",
       "   'title': '후배사랑 실천한 `KAIST 전산학부 동문 17인`…크래프톤 재직자로 1억원 기부',\n",
       "   'summary': \"KAIST, 17명 전산학부 후배 위해 기부 행렬 학생회, 동아리, 학부 장학금 등 활용 예정 국내 게임기업인 크래프톤에 근무하고 있는 KAIST 동문 17명이 '기부 천사'에 이름을 올렸다. KAIST는 크래프톤에\",\n",
       "   'serviceTime': 1651214407000,\n",
       "   'imageUrl': 'https://mimgnews.pstatic.net/image/origin/029/2022/04/29/2732069.jpg',\n",
       "   'type': '1',\n",
       "   'sessionId': 'eUA7TEvdYXajKGhg',\n",
       "   'modelVersion': 'news_sec_v2.0',\n",
       "   'airsServiceType': 'DEFAULT'},\n",
       "  {'sectionId': '105',\n",
       "   'gdid': '88127058_000000000000000000810181',\n",
       "   'articleId': '0000810181',\n",
       "   'officeId': '366',\n",
       "   'officeName': '조선비즈',\n",
       "   'title': '삼성전자, 올해 임금 인상률 9% 확정…대졸 초임 5150만원',\n",
       "   'summary': '삼성전자 노사가 2022년 평균 임금 인상률 9%에 최종 합의했다. 29일 전자 업계에 따르면 삼성전자 노사협의회는 이날 직원 공지문을 통해 2022년 전 사원의 평균 임금 인상률이 9%로 결정됐다고 밝혔다. 이는 ',\n",
       "   'serviceTime': 1651214226000,\n",
       "   'imageUrl': 'https://mimgnews.pstatic.net/image/origin/366/2022/04/29/810181.jpg',\n",
       "   'type': '1',\n",
       "   'sessionId': 'zHoqYbPV0SqZoWsk',\n",
       "   'modelVersion': 'news_sec_v2.0',\n",
       "   'airsServiceType': 'DEFAULT'},\n",
       "  {'sectionId': '105',\n",
       "   'gdid': '880000D1_000000000000000003269533',\n",
       "   'articleId': '0003269533',\n",
       "   'officeId': '081',\n",
       "   'officeName': '서울신문',\n",
       "   'title': '[아하! 우주] 선명한 이미지!…제임스웹 우주망원경, ‘완벽한 초점’ 맞췄다',\n",
       "   'summary': '[서울신문 나우뉴스] 제임스웹 우주망원경이 마침내 거울 정렬작업을 완벽히 마무리하며 최상의 선명한 심우주 이미지를 잡아내는 데 성공했다. 미 항공우주국(NASA)은 28일(현지시간) 제임스웹 우주망원경이 탑재한 네 ',\n",
       "   'serviceTime': 1651213622000,\n",
       "   'imageUrl': 'https://mimgnews.pstatic.net/image/origin/081/2022/04/29/3269533.jpg',\n",
       "   'type': '1',\n",
       "   'sessionId': 'eUA7TEvdYXajKGhg',\n",
       "   'modelVersion': 'news_sec_v2.0',\n",
       "   'airsServiceType': 'DEFAULT'},\n",
       "  {'sectionId': '105',\n",
       "   'gdid': '8812805E_000000000000000000808663',\n",
       "   'articleId': '0000808663',\n",
       "   'officeId': '417',\n",
       "   'officeName': '머니S',\n",
       "   'title': \"세계 스마트폰 시장, 1분기 7% 역성장… 코로나에 러-우크라 전쟁까지 '이중고'\",\n",
       "   'summary': '세계 스마트폰 시장이 올해 1분기(1~3월) 7% 역성장을 기록하며 힘든 시기를 보내고 있다. 신종 코로나바이러스 감염증(코로나19) 리스크가 여전한 가운데 러시아의 우크라이나 침공으로 원자잿값과 물류비 상승, 부품',\n",
       "   'serviceTime': 1651212776000,\n",
       "   'imageUrl': 'https://mimgnews.pstatic.net/image/origin/417/2022/04/29/808663.jpg',\n",
       "   'type': '1',\n",
       "   'sessionId': 'eUA7TEvdYXajKGhg',\n",
       "   'modelVersion': 'news_sec_v2.0',\n",
       "   'airsServiceType': 'DEFAULT'},\n",
       "  {'sectionId': '105',\n",
       "   'gdid': '880000AC_000000000000000002123774',\n",
       "   'articleId': '0002123774',\n",
       "   'officeId': '138',\n",
       "   'officeName': '디지털데일리',\n",
       "   'title': '테슬라 폭락 주범 알고봤더니…일론 머스크,  440만주 매각해 39.9억 달러 마련',\n",
       "   'summary': '테슬라의 일론 머스크 최고경영자(CEO)가 자신의 테슬라 보유지분 440만주를 매각해 39억9000만달러(한화 약 5조원)의 현금을 확보한 것으로 미국 증권업계의 분석 결과 나타났다고 28일(현지시간) 로이터통신 등',\n",
       "   'serviceTime': 1651212301000,\n",
       "   'imageUrl': 'https://mimgnews.pstatic.net/image/origin/138/2022/04/29/2123774.jpg',\n",
       "   'type': '1',\n",
       "   'sessionId': 'eUA7TEvdYXajKGhg',\n",
       "   'modelVersion': 'news_sec_v2.0',\n",
       "   'airsServiceType': 'DEFAULT'},\n",
       "  {'sectionId': '105',\n",
       "   'gdid': '8800011E_000000000000000002255422',\n",
       "   'articleId': '0002255422',\n",
       "   'officeId': '092',\n",
       "   'officeName': 'ZDNet Korea',\n",
       "   'title': '치약 짜듯 빠르고 반듯하게...3D 프린터로 집 짓는다',\n",
       "   'summary': 'X축(가로) 6m, Y축(세로) 5m, Z축(높이) 4m 짜리 대형 3D프린터가 황토 반죽을 치약 짜듯이 출력한다. 20시간을 쉬지 않고 움직여 무언가를 만든다. 누군가 들어가 따뜻하게 몸을 누울 이 곳의 크기는 가',\n",
       "   'serviceTime': 1651212121000,\n",
       "   'imageUrl': 'https://mimgnews.pstatic.net/image/origin/092/2022/04/29/2255422.jpg',\n",
       "   'type': '1',\n",
       "   'sessionId': 'eUA7TEvdYXajKGhg',\n",
       "   'modelVersion': 'news_sec_v2.0',\n",
       "   'airsServiceType': 'DEFAULT'},\n",
       "  {'sectionId': '105',\n",
       "   'gdid': '88000127_000000000000000011154542',\n",
       "   'articleId': '0011154542',\n",
       "   'officeId': '003',\n",
       "   'officeName': '뉴시스',\n",
       "   'title': '삼성, 세계 스마트폰 점유율 1위 탈환…전체 시장은 7% 역성장',\n",
       "   'summary': '기사내용 요약 삼성, 1분기 출하량 7400만대…점유율 23% 기록 애플은 5900만대로 2위…전 분기 대비 28% 감소 공급망 이슈 등으로 전체 시장 규모 전년比 7%↓ [서울=뉴시스]윤현성 기자 = 지난해 4분기',\n",
       "   'serviceTime': 1651211375000,\n",
       "   'imageUrl': 'https://mimgnews.pstatic.net/image/origin/003/2022/04/29/11154542.jpg',\n",
       "   'type': '1',\n",
       "   'sessionId': 'eUA7TEvdYXajKGhg',\n",
       "   'modelVersion': 'news_sec_v2.0',\n",
       "   'airsServiceType': 'DEFAULT'},\n",
       "  {'sectionId': '105',\n",
       "   'gdid': '88156f75_000000000000000000672363',\n",
       "   'articleId': '0000672363',\n",
       "   'officeId': '469',\n",
       "   'officeName': '한국일보',\n",
       "   'title': '역대급 실적에도 웃지 못한 애플, 공급망 문제 대두되면서 주가는 급락',\n",
       "   'summary': \"글로벌 정보기술(IT) 업계 공룡인 애플이 올해 1분기에 인플레이션 악재 등에도 불구하고 '깜짝실적(어닝서프라이즈)'를 가져왔다. 주력인 아이폰과 온라인장터인 앱스토어 등에서 선전한 결과다. 하지만 신종 코로나바이러\",\n",
       "   'serviceTime': 1651210262000,\n",
       "   'imageUrl': 'https://mimgnews.pstatic.net/image/origin/469/2022/04/29/672363.jpg',\n",
       "   'type': '1',\n",
       "   'sessionId': 'eUA7TEvdYXajKGhg',\n",
       "   'modelVersion': 'news_sec_v2.0',\n",
       "   'airsServiceType': 'DEFAULT'},\n",
       "  {'sectionId': '105',\n",
       "   'gdid': '88156f75_000000000000000000672362',\n",
       "   'articleId': '0000672362',\n",
       "   'officeId': '469',\n",
       "   'officeName': '한국일보',\n",
       "   'title': '삼성전자 노사, 올해 임금인상률 9% 최종 합의…대졸 신입 초봉 5,150만원',\n",
       "   'summary': '삼성전자 노사가 2022년 임직원 평균 임금인상률을 9%로 결정했다. 29일 업계에 따르면 삼성전자 노사협의회는 이날 오전 노사가 연내 사원의 평균 임금인상률을 9%로 합의했다는 내용을 임직원들에게 공지했다. 노사협',\n",
       "   'serviceTime': 1651210261000,\n",
       "   'imageUrl': 'https://mimgnews.pstatic.net/image/origin/469/2022/04/29/672362.jpg',\n",
       "   'type': '1',\n",
       "   'sessionId': 'eUA7TEvdYXajKGhg',\n",
       "   'modelVersion': 'news_sec_v2.0',\n",
       "   'airsServiceType': 'DEFAULT'},\n",
       "  {'sectionId': '105',\n",
       "   'gdid': '88000108_000000000000000004048337',\n",
       "   'articleId': '0004048337',\n",
       "   'officeId': '011',\n",
       "   'officeName': '서울경제',\n",
       "   'title': '\"연봉 1000만원 인상\" 웹젠 노조, 2일 파업 보류',\n",
       "   'summary': '[서울경제] 게임 업계 최초로 파업을 예고했던 웹젠(069080) 노동조합이 쟁의활동을 일단 보류하기로 했다. 29일 업계에 따르면 웹젠 노조는 다음달 2일 국회 문화체육관광위원회·환경노동위원회 공동 주최로 열리는 ',\n",
       "   'serviceTime': 1651210261000,\n",
       "   'imageUrl': 'https://mimgnews.pstatic.net/image/origin/011/2022/04/29/4048337.jpg',\n",
       "   'type': '1',\n",
       "   'sessionId': 'eUA7TEvdYXajKGhg',\n",
       "   'modelVersion': 'news_sec_v2.0',\n",
       "   'airsServiceType': 'DEFAULT'}]}"
      ]
     },
     "execution_count": 6,
     "metadata": {},
     "output_type": "execute_result"
    }
   ],
   "source": [
    "# str > json\n",
    "datas = json.loads(datas)[\"result\"]\n",
    "datas"
   ]
  },
  {
   "cell_type": "code",
   "execution_count": 7,
   "id": "91afe65c-0f22-4f84-baad-70a42616bc6e",
   "metadata": {
    "jupyter": {
     "outputs_hidden": true
    },
    "tags": []
   },
   "outputs": [
    {
     "data": {
      "text/html": [
       "<div>\n",
       "<style scoped>\n",
       "    .dataframe tbody tr th:only-of-type {\n",
       "        vertical-align: middle;\n",
       "    }\n",
       "\n",
       "    .dataframe tbody tr th {\n",
       "        vertical-align: top;\n",
       "    }\n",
       "\n",
       "    .dataframe thead th {\n",
       "        text-align: right;\n",
       "    }\n",
       "</style>\n",
       "<table border=\"1\" class=\"dataframe\">\n",
       "  <thead>\n",
       "    <tr style=\"text-align: right;\">\n",
       "      <th></th>\n",
       "      <th>sectionId</th>\n",
       "      <th>gdid</th>\n",
       "      <th>articleId</th>\n",
       "      <th>officeId</th>\n",
       "      <th>officeName</th>\n",
       "      <th>title</th>\n",
       "      <th>summary</th>\n",
       "      <th>serviceTime</th>\n",
       "      <th>imageUrl</th>\n",
       "      <th>type</th>\n",
       "      <th>sessionId</th>\n",
       "      <th>modelVersion</th>\n",
       "      <th>airsServiceType</th>\n",
       "    </tr>\n",
       "  </thead>\n",
       "  <tbody>\n",
       "    <tr>\n",
       "      <th>18</th>\n",
       "      <td>105</td>\n",
       "      <td>88156f75_000000000000000000672362</td>\n",
       "      <td>0000672362</td>\n",
       "      <td>469</td>\n",
       "      <td>한국일보</td>\n",
       "      <td>삼성전자 노사, 올해 임금인상률 9% 최종 합의…대졸 신입 초봉 5,150만원</td>\n",
       "      <td>삼성전자 노사가 2022년 임직원 평균 임금인상률을 9%로 결정했다. 29일 업계에...</td>\n",
       "      <td>1651210261000</td>\n",
       "      <td>https://mimgnews.pstatic.net/image/origin/469/...</td>\n",
       "      <td>1</td>\n",
       "      <td>eUA7TEvdYXajKGhg</td>\n",
       "      <td>news_sec_v2.0</td>\n",
       "      <td>DEFAULT</td>\n",
       "    </tr>\n",
       "    <tr>\n",
       "      <th>19</th>\n",
       "      <td>105</td>\n",
       "      <td>88000108_000000000000000004048337</td>\n",
       "      <td>0004048337</td>\n",
       "      <td>011</td>\n",
       "      <td>서울경제</td>\n",
       "      <td>\"연봉 1000만원 인상\" 웹젠 노조, 2일 파업 보류</td>\n",
       "      <td>[서울경제] 게임 업계 최초로 파업을 예고했던 웹젠(069080) 노동조합이 쟁의활...</td>\n",
       "      <td>1651210261000</td>\n",
       "      <td>https://mimgnews.pstatic.net/image/origin/011/...</td>\n",
       "      <td>1</td>\n",
       "      <td>eUA7TEvdYXajKGhg</td>\n",
       "      <td>news_sec_v2.0</td>\n",
       "      <td>DEFAULT</td>\n",
       "    </tr>\n",
       "  </tbody>\n",
       "</table>\n",
       "</div>"
      ],
      "text/plain": [
       "   sectionId                               gdid   articleId officeId  \\\n",
       "18       105  88156f75_000000000000000000672362  0000672362      469   \n",
       "19       105  88000108_000000000000000004048337  0004048337      011   \n",
       "\n",
       "   officeName                                        title  \\\n",
       "18       한국일보  삼성전자 노사, 올해 임금인상률 9% 최종 합의…대졸 신입 초봉 5,150만원   \n",
       "19       서울경제               \"연봉 1000만원 인상\" 웹젠 노조, 2일 파업 보류   \n",
       "\n",
       "                                              summary    serviceTime  \\\n",
       "18  삼성전자 노사가 2022년 임직원 평균 임금인상률을 9%로 결정했다. 29일 업계에...  1651210261000   \n",
       "19  [서울경제] 게임 업계 최초로 파업을 예고했던 웹젠(069080) 노동조합이 쟁의활...  1651210261000   \n",
       "\n",
       "                                             imageUrl type         sessionId  \\\n",
       "18  https://mimgnews.pstatic.net/image/origin/469/...    1  eUA7TEvdYXajKGhg   \n",
       "19  https://mimgnews.pstatic.net/image/origin/011/...    1  eUA7TEvdYXajKGhg   \n",
       "\n",
       "     modelVersion airsServiceType  \n",
       "18  news_sec_v2.0         DEFAULT  \n",
       "19  news_sec_v2.0         DEFAULT  "
      ]
     },
     "execution_count": 7,
     "metadata": {},
     "output_type": "execute_result"
    }
   ],
   "source": [
    "# json > DataFrame\n",
    "df = pd.DataFrame(datas[str(sid1)])\n",
    "df.tail(2)"
   ]
  },
  {
   "cell_type": "code",
   "execution_count": 8,
   "id": "6e206815",
   "metadata": {},
   "outputs": [
    {
     "data": {
      "text/html": [
       "<div>\n",
       "<style scoped>\n",
       "    .dataframe tbody tr th:only-of-type {\n",
       "        vertical-align: middle;\n",
       "    }\n",
       "\n",
       "    .dataframe tbody tr th {\n",
       "        vertical-align: top;\n",
       "    }\n",
       "\n",
       "    .dataframe thead th {\n",
       "        text-align: right;\n",
       "    }\n",
       "</style>\n",
       "<table border=\"1\" class=\"dataframe\">\n",
       "  <thead>\n",
       "    <tr style=\"text-align: right;\">\n",
       "      <th></th>\n",
       "      <th>sectionId</th>\n",
       "      <th>articleId</th>\n",
       "      <th>officeId</th>\n",
       "      <th>officeName</th>\n",
       "      <th>title</th>\n",
       "      <th>summary</th>\n",
       "    </tr>\n",
       "  </thead>\n",
       "  <tbody>\n",
       "    <tr>\n",
       "      <th>19</th>\n",
       "      <td>105</td>\n",
       "      <td>0004048337</td>\n",
       "      <td>011</td>\n",
       "      <td>서울경제</td>\n",
       "      <td>\"연봉 1000만원 인상\" 웹젠 노조, 2일 파업 보류</td>\n",
       "      <td>[서울경제] 게임 업계 최초로 파업을 예고했던 웹젠(069080) 노동조합이 쟁의활...</td>\n",
       "    </tr>\n",
       "  </tbody>\n",
       "</table>\n",
       "</div>"
      ],
      "text/plain": [
       "   sectionId   articleId officeId officeName                           title  \\\n",
       "19       105  0004048337      011       서울경제  \"연봉 1000만원 인상\" 웹젠 노조, 2일 파업 보류   \n",
       "\n",
       "                                              summary  \n",
       "19  [서울경제] 게임 업계 최초로 파업을 예고했던 웹젠(069080) 노동조합이 쟁의활...  "
      ]
     },
     "execution_count": 8,
     "metadata": {},
     "output_type": "execute_result"
    }
   ],
   "source": [
    "datas = res.json()[\"airsResult\"]\n",
    "datas = json.loads(datas)[\"result\"][str(sid1)]\n",
    "columns = ['sectionId', 'articleId', 'officeId', 'officeName', 'title', 'summary']\n",
    "df = pd.DataFrame(datas)[columns]  # DataFrame columns 종류 및 순서\n",
    "df.tail(1)"
   ]
  },
  {
   "cell_type": "markdown",
   "id": "078e9361-bdbe-448f-98cc-eefeece87e7d",
   "metadata": {},
   "source": [
    "#### 4. 함수로 만들기"
   ]
  },
  {
   "cell_type": "code",
   "execution_count": 9,
   "id": "dc16fcc2",
   "metadata": {},
   "outputs": [],
   "source": [
    "def article_list(sid1, page):\n",
    "    url = f\"https://news.naver.com/main/mainNews.naver?sid1={sid1}&date=00:00:00&page={page}\"\n",
    "    headers = {'user-agent': 'Mozilla/5.0 (Windows NT 10.0; Win64; x64)\\\n",
    "AppleWebKit/537.36 (KHTML, like Gecko) Chrome/98.0.4758.102 Safari/537.36'}\n",
    "    response = requests.post(url, headers=headers)\n",
    "    datas = response.json()[\"airsResult\"]\n",
    "    datas = json.loads(datas)[\"result\"][str(sid1)]\n",
    "    columns = ['sectionId', 'articleId', 'officeId', 'officeName', 'title', 'summary']\n",
    "    return pd.DataFrame(datas)[columns]"
   ]
  },
  {
   "cell_type": "code",
   "execution_count": 10,
   "id": "42a58199",
   "metadata": {},
   "outputs": [
    {
     "data": {
      "text/html": [
       "<div>\n",
       "<style scoped>\n",
       "    .dataframe tbody tr th:only-of-type {\n",
       "        vertical-align: middle;\n",
       "    }\n",
       "\n",
       "    .dataframe tbody tr th {\n",
       "        vertical-align: top;\n",
       "    }\n",
       "\n",
       "    .dataframe thead th {\n",
       "        text-align: right;\n",
       "    }\n",
       "</style>\n",
       "<table border=\"1\" class=\"dataframe\">\n",
       "  <thead>\n",
       "    <tr style=\"text-align: right;\">\n",
       "      <th></th>\n",
       "      <th>sectionId</th>\n",
       "      <th>articleId</th>\n",
       "      <th>officeId</th>\n",
       "      <th>officeName</th>\n",
       "      <th>title</th>\n",
       "      <th>summary</th>\n",
       "    </tr>\n",
       "  </thead>\n",
       "  <tbody>\n",
       "    <tr>\n",
       "      <th>19</th>\n",
       "      <td>100</td>\n",
       "      <td>0005082187</td>\n",
       "      <td>277</td>\n",
       "      <td>아시아경제</td>\n",
       "      <td>'전두환 부인' 이순자, 尹취임식 초청받아… \"취임식 관례\"</td>\n",
       "      <td>윤석열 대통령 당선인 측이 내달 10일 열리는 취임식에 전두환 씨의 부인 이순자 씨...</td>\n",
       "    </tr>\n",
       "  </tbody>\n",
       "</table>\n",
       "</div>"
      ],
      "text/plain": [
       "   sectionId   articleId officeId officeName  \\\n",
       "19       100  0005082187      277      아시아경제   \n",
       "\n",
       "                                title  \\\n",
       "19  '전두환 부인' 이순자, 尹취임식 초청받아… \"취임식 관례\"   \n",
       "\n",
       "                                              summary  \n",
       "19  윤석열 대통령 당선인 측이 내달 10일 열리는 취임식에 전두환 씨의 부인 이순자 씨...  "
      ]
     },
     "execution_count": 10,
     "metadata": {},
     "output_type": "execute_result"
    }
   ],
   "source": [
    "df = article_list(100, 2)\n",
    "df.tail(1)"
   ]
  },
  {
   "cell_type": "code",
   "execution_count": 11,
   "id": "0cf26901",
   "metadata": {},
   "outputs": [],
   "source": [
    "# article_list함수를 이용하여 100 ~ 105 카테고리, 각 카테고리별 2페이지까지 데이터 수집"
   ]
  },
  {
   "cell_type": "code",
   "execution_count": 12,
   "id": "b868014b",
   "metadata": {},
   "outputs": [
    {
     "name": "stdout",
     "output_type": "stream",
     "text": [
      "100 1 100 2 101 1 101 2 102 1 102 2 103 1 103 2 104 1 104 2 105 1 105 2 Wall time: 557 ms\n"
     ]
    },
    {
     "data": {
      "text/html": [
       "<div>\n",
       "<style scoped>\n",
       "    .dataframe tbody tr th:only-of-type {\n",
       "        vertical-align: middle;\n",
       "    }\n",
       "\n",
       "    .dataframe tbody tr th {\n",
       "        vertical-align: top;\n",
       "    }\n",
       "\n",
       "    .dataframe thead th {\n",
       "        text-align: right;\n",
       "    }\n",
       "</style>\n",
       "<table border=\"1\" class=\"dataframe\">\n",
       "  <thead>\n",
       "    <tr style=\"text-align: right;\">\n",
       "      <th></th>\n",
       "      <th>sectionId</th>\n",
       "      <th>articleId</th>\n",
       "      <th>officeId</th>\n",
       "      <th>officeName</th>\n",
       "      <th>title</th>\n",
       "      <th>summary</th>\n",
       "    </tr>\n",
       "  </thead>\n",
       "  <tbody>\n",
       "    <tr>\n",
       "      <th>238</th>\n",
       "      <td>105</td>\n",
       "      <td>0002588748</td>\n",
       "      <td>028</td>\n",
       "      <td>한겨레</td>\n",
       "      <td>아마존 21년 만의 ‘최저 성장’…공급망 차질·우크라 사태 겹악재 탓</td>\n",
       "      <td>아마존닷컴(아마존)의 1분기(1∼3월) 매출 성장률이 ‘닷컴 버블’ 때인 2001년...</td>\n",
       "    </tr>\n",
       "    <tr>\n",
       "      <th>239</th>\n",
       "      <td>105</td>\n",
       "      <td>0002123756</td>\n",
       "      <td>138</td>\n",
       "      <td>디지털데일리</td>\n",
       "      <td>애플, 아이폰14프로 노치 대신 펀치홀…디스플레이 사진 유출</td>\n",
       "      <td>- 긴 구멍 하나와 작은 구멍 하나의 '듀얼 홀' 디스플레이 [디지털데일리 백승은 ...</td>\n",
       "    </tr>\n",
       "  </tbody>\n",
       "</table>\n",
       "</div>"
      ],
      "text/plain": [
       "    sectionId   articleId officeId officeName  \\\n",
       "238       105  0002588748      028        한겨레   \n",
       "239       105  0002123756      138     디지털데일리   \n",
       "\n",
       "                                      title  \\\n",
       "238  아마존 21년 만의 ‘최저 성장’…공급망 차질·우크라 사태 겹악재 탓   \n",
       "239       애플, 아이폰14프로 노치 대신 펀치홀…디스플레이 사진 유출   \n",
       "\n",
       "                                               summary  \n",
       "238  아마존닷컴(아마존)의 1분기(1∼3월) 매출 성장률이 ‘닷컴 버블’ 때인 2001년...  \n",
       "239  - 긴 구멍 하나와 작은 구멍 하나의 '듀얼 홀' 디스플레이 [디지털데일리 백승은 ...  "
      ]
     },
     "execution_count": 12,
     "metadata": {},
     "output_type": "execute_result"
    }
   ],
   "source": [
    "%%time\n",
    "dfs = []\n",
    "for sid1 in range(100, 106):\n",
    "    for page in range(1, 3):\n",
    "        print(sid1, page, end=\" \")\n",
    "        dfs.append(article_list(sid1, page))\n",
    "article_df = pd.concat(dfs, ignore_index=True)\n",
    "article_df.tail(2)"
   ]
  },
  {
   "cell_type": "markdown",
   "id": "972a1672-b1a9-40d1-a764-a6c5c6c6f5c3",
   "metadata": {},
   "source": [
    "#### 5. 상세 페이지 링크 생성"
   ]
  },
  {
   "cell_type": "code",
   "execution_count": 13,
   "id": "c7eeca44",
   "metadata": {},
   "outputs": [],
   "source": [
    "# https://news.naver.com/main/read.naver?mode=LSD&mid=shm\n",
    "# &sid1=105&oid=092&aid=0002244690"
   ]
  },
  {
   "cell_type": "code",
   "execution_count": 14,
   "id": "05b3fced",
   "metadata": {},
   "outputs": [
    {
     "name": "stdout",
     "output_type": "stream",
     "text": [
      "https://news.naver.com/main/read.naver?mode=LSD&mid=shm&sid1=105&oid=018&aid=0005203985\n"
     ]
    }
   ],
   "source": [
    "article_df[\"link\"] = \"https://news.naver.com/main/read.naver?mode=LSD&mid=shm\"\n",
    "article_df[\"link\"] += \"&sid1=\" + article_df[\"sectionId\"]\n",
    "article_df[\"link\"] += \"&oid=\" + article_df[\"officeId\"]\n",
    "article_df[\"link\"] += \"&aid=\" + article_df[\"articleId\"]\n",
    "link = article_df.loc[200, \"link\"]\n",
    "print(link)"
   ]
  },
  {
   "cell_type": "markdown",
   "id": "6a1f8100-674f-4503-8365-1b63a7aa8216",
   "metadata": {},
   "source": [
    "#### 6. request > response : str(html)"
   ]
  },
  {
   "cell_type": "code",
   "execution_count": 15,
   "id": "fdbe93f8",
   "metadata": {},
   "outputs": [
    {
     "data": {
      "text/plain": [
       "<Response [200]>"
      ]
     },
     "execution_count": 15,
     "metadata": {},
     "output_type": "execute_result"
    }
   ],
   "source": [
    "res = requests.get(link, headers=headers)\n",
    "res"
   ]
  },
  {
   "cell_type": "markdown",
   "id": "948e2c1b-ffa7-4010-93a4-f675844b28fd",
   "metadata": {},
   "source": [
    "#### 7. str(html) > css-selector > text(기사내용) > 기사 리스트 데이터 프레임에 적용"
   ]
  },
  {
   "cell_type": "code",
   "execution_count": 16,
   "id": "d26e06e8",
   "metadata": {},
   "outputs": [
    {
     "ename": "AttributeError",
     "evalue": "'NoneType' object has no attribute 'text'",
     "output_type": "error",
     "traceback": [
      "\u001b[1;31m---------------------------------------------------------------------------\u001b[0m",
      "\u001b[1;31mAttributeError\u001b[0m                            Traceback (most recent call last)",
      "\u001b[1;32m~\\AppData\\Local\\Temp/ipykernel_8664/3319131587.py\u001b[0m in \u001b[0;36m<module>\u001b[1;34m\u001b[0m\n\u001b[0;32m      1\u001b[0m \u001b[0msoup\u001b[0m \u001b[1;33m=\u001b[0m \u001b[0mBeautifulSoup\u001b[0m\u001b[1;33m(\u001b[0m\u001b[0mres\u001b[0m\u001b[1;33m.\u001b[0m\u001b[0mtext\u001b[0m\u001b[1;33m)\u001b[0m\u001b[1;33m\u001b[0m\u001b[1;33m\u001b[0m\u001b[0m\n\u001b[1;32m----> 2\u001b[1;33m \u001b[0mcontent\u001b[0m \u001b[1;33m=\u001b[0m \u001b[0msoup\u001b[0m\u001b[1;33m.\u001b[0m\u001b[0mselect_one\u001b[0m\u001b[1;33m(\u001b[0m\u001b[1;34m\"#articleBodyContents\"\u001b[0m\u001b[1;33m)\u001b[0m\u001b[1;33m.\u001b[0m\u001b[0mtext\u001b[0m\u001b[1;33m.\u001b[0m\u001b[0mstrip\u001b[0m\u001b[1;33m(\u001b[0m\u001b[1;33m)\u001b[0m\u001b[1;33m\u001b[0m\u001b[1;33m\u001b[0m\u001b[0m\n\u001b[0m\u001b[0;32m      3\u001b[0m \u001b[1;33m\u001b[0m\u001b[0m\n\u001b[0;32m      4\u001b[0m \u001b[0mcontent\u001b[0m\u001b[1;33m[\u001b[0m\u001b[1;33m:\u001b[0m\u001b[1;36m100\u001b[0m\u001b[1;33m]\u001b[0m\u001b[1;33m\u001b[0m\u001b[1;33m\u001b[0m\u001b[0m\n",
      "\u001b[1;31mAttributeError\u001b[0m: 'NoneType' object has no attribute 'text'"
     ]
    }
   ],
   "source": [
    "soup = BeautifulSoup(res.text)\n",
    "content = soup.select_one(\"#articleBodyContents\").text.strip()\n",
    "\n",
    "content[:100]"
   ]
  },
  {
   "cell_type": "code",
   "execution_count": null,
   "id": "bcbdd744",
   "metadata": {},
   "outputs": [],
   "source": [
    "def article_content(link):\n",
    "    res = requests.get(link, headers=headers)\n",
    "    soup = BeautifulSoup(res.text)\n",
    "    return soup.select_one(\"#articleBodyContents\").text.strip()"
   ]
  },
  {
   "cell_type": "code",
   "execution_count": null,
   "id": "3c7a609a",
   "metadata": {},
   "outputs": [],
   "source": [
    "%%time\n",
    "article_df[\"content\"] = article_df[\"link\"].apply(article_content)"
   ]
  },
  {
   "cell_type": "code",
   "execution_count": null,
   "id": "1d25e06b-f395-4c90-9258-55df1f53e47d",
   "metadata": {},
   "outputs": [],
   "source": [
    "# csv 파일로 저장\n",
    "article_df.to_csv('naver.csv', index=False)"
   ]
  },
  {
   "cell_type": "code",
   "execution_count": null,
   "id": "741b893a",
   "metadata": {},
   "outputs": [],
   "source": [
    "# 모듈로 만들기"
   ]
  },
  {
   "cell_type": "code",
   "execution_count": null,
   "id": "2613266d",
   "metadata": {},
   "outputs": [],
   "source": [
    "%%writefile naver.py\n",
    "import json\n",
    "import requests\n",
    "import pandas as pd\n",
    "from bs4 import BeautifulSoup\n",
    "from datetime import datetime\n",
    "\n",
    "headers = {'user-agent': 'Mozilla/5.0 (Windows NT 10.0; Win64; x64)\\\n",
    "AppleWebKit/537.36 (KHTML, like Gecko) Chrome/98.0.4758.102 Safari/537.36'}\n",
    "\n",
    "def article_list(sid1, page):\n",
    "    url = f\"https://news.naver.com/main/mainNews.naver?sid1={sid1}&date=00:00:00&page={page}\"\n",
    "    res = requests.post(url, headers=headers)\n",
    "    datas = res.json()[\"airsResult\"]\n",
    "    datas = json.loads(datas)[\"result\"][str(sid1)]\n",
    "    columns = ['sectionId', 'articleId', 'officeId', 'officeName', 'title', 'summary']\n",
    "    return pd.DataFrame(datas)[columns]\n",
    "\n",
    "def article_content(link):\n",
    "    res = requests.get(link, headers=headers)\n",
    "    soup = BeautifulSoup(response.text, \"html.parser\")\n",
    "    return soup.select_one(\"#articleBodyContents\").text.strip()\n",
    "\n",
    "def crawling(start, end, filename=\"naver_article.csv\"):\n",
    "    \n",
    "    print(\"crawling article list ...\")\n",
    "    dfs = []\n",
    "    for sid1 in range(100, 106):\n",
    "        for page in range(start, end + 1):\n",
    "            print(sid1, page, end=\" \")\n",
    "            dfs.append(article_list(sid1, page))\n",
    "    article_df = pd.concat(dfs, ignore_index=True)\n",
    "    \n",
    "    print(\"\\n\\nmaking link ...\")\n",
    "    article_df[\"link\"] = \"https://news.naver.com/main/read.naver?mode=LSD&mid=shm\"\n",
    "    article_df[\"link\"] += \"&sid1=\" + article_df[\"sectionId\"]\n",
    "    article_df[\"link\"] += \"&oid=\" + article_df[\"officeId\"]\n",
    "    article_df[\"link\"] += \"&aid=\" + article_df[\"articleId\"]\n",
    "    \n",
    "    print(\"\\ncrawling content ...\")\n",
    "    article_df[\"content\"] = article_df[\"link\"].apply(article_content)\n",
    "    \n",
    "    article_df.to_csv(filename, index=False)"
   ]
  },
  {
   "cell_type": "code",
   "execution_count": null,
   "id": "852441ce",
   "metadata": {},
   "outputs": [],
   "source": [
    "# filename = datetime.now().strftime(\"%Y%m%d_%H%M%S\")\n",
    "# crawling(1, 1, f\"{filename}.csv\")"
   ]
  },
  {
   "cell_type": "code",
   "execution_count": null,
   "id": "0f743bca",
   "metadata": {},
   "outputs": [],
   "source": [
    "import naver\n",
    "from datetime import datetime"
   ]
  },
  {
   "cell_type": "code",
   "execution_count": null,
   "id": "831d7815",
   "metadata": {},
   "outputs": [],
   "source": [
    "filename = datetime.now().strftime(\"%Y%m%d_%H%M%S\")\n",
    "naver.crawling(1, 1, f\"{filename}.csv\")"
   ]
  },
  {
   "cell_type": "code",
   "execution_count": null,
   "id": "9cc0a4c6",
   "metadata": {},
   "outputs": [],
   "source": [
    "%ls"
   ]
  }
 ],
 "metadata": {
  "kernelspec": {
   "display_name": "Python 3 (ipykernel)",
   "language": "python",
   "name": "python3"
  },
  "language_info": {
   "codemirror_mode": {
    "name": "ipython",
    "version": 3
   },
   "file_extension": ".py",
   "mimetype": "text/x-python",
   "name": "python",
   "nbconvert_exporter": "python",
   "pygments_lexer": "ipython3",
   "version": "3.9.7"
  },
  "toc": {
   "base_numbering": 1,
   "nav_menu": {},
   "number_sections": false,
   "sideBar": true,
   "skip_h1_title": false,
   "title_cell": "Table of Contents",
   "title_sidebar": "Contents",
   "toc_cell": false,
   "toc_position": {},
   "toc_section_display": true,
   "toc_window_display": false
  }
 },
 "nbformat": 4,
 "nbformat_minor": 5
}
